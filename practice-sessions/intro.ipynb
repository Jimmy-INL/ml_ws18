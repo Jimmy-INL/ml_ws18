{
 "cells": [
  {
   "cell_type": "markdown",
   "metadata": {
    "slideshow": {
     "slide_type": "slide"
    }
   },
   "source": [
    "# Machine Learning (Summer 2018)"
   ]
  },
  {
   "cell_type": "markdown",
   "metadata": {},
   "source": [
    "## Practice Session 1"
   ]
  },
  {
   "cell_type": "markdown",
   "metadata": {},
   "source": [
    "April, 10th 2018"
   ]
  },
  {
   "cell_type": "markdown",
   "metadata": {},
   "source": [
    "Ulf Krumnack\n",
    "\n",
    "Institute of Cognitive Science\n",
    "University of Osnabrück"
   ]
  },
  {
   "cell_type": "markdown",
   "metadata": {
    "slideshow": {
     "slide_type": "subslide"
    }
   },
   "source": [
    "## Today's Session"
   ]
  },
  {
   "cell_type": "markdown",
   "metadata": {},
   "source": [
    "* organizational stuff\n",
    "* exercise sheet\n",
    "* introduction jupyter and python"
   ]
  },
  {
   "cell_type": "markdown",
   "metadata": {
    "slideshow": {
     "slide_type": "slide"
    }
   },
   "source": [
    "# Goal of the practice sessions"
   ]
  },
  {
   "cell_type": "markdown",
   "metadata": {},
   "source": [
    "* repeat topics from the lecture\n",
    "  - discuss in more detail\n",
    "  - answer your questions\n",
    "* apply techniques\n",
    "  - implementation\n",
    "  - experiments with data"
   ]
  },
  {
   "cell_type": "markdown",
   "metadata": {
    "slideshow": {
     "slide_type": "fragment"
    }
   },
   "source": [
    "**Try this at home!**"
   ]
  },
  {
   "cell_type": "markdown",
   "metadata": {
    "slideshow": {
     "slide_type": "subslide"
    }
   },
   "source": [
    "There are 7 tutors to assist you:\n",
    "* Ann-Christin Meisener\n",
    "* John Berroa\n",
    "* Leon Schmid\n",
    "* Luke Effenberger\n",
    "* Nina Wiedemann\n",
    "* Rüdiger Frederik Busche\n",
    "* Viviane Kakerbeck"
   ]
  },
  {
   "cell_type": "markdown",
   "metadata": {
    "slideshow": {
     "slide_type": "slide"
    }
   },
   "source": [
    "## Exercises"
   ]
  },
  {
   "cell_type": "markdown",
   "metadata": {},
   "source": [
    "There will be exercises!\n",
    "\n",
    "One sheet per week:\n",
    "* submission before Monday\n",
    "* work in groups of 3\n",
    " \n",
    "Feedback meeting Monday/Tuesday/Wednesday/Thursday (with tutors):\n",
    "* explain your solution to the tutors\n",
    "* ask questions"
   ]
  },
  {
   "cell_type": "markdown",
   "metadata": {
    "slideshow": {
     "slide_type": "subslide"
    }
   },
   "source": [
    "Requirement to participate in the final exam:\n",
    "* more than 50% in N-2 of the sheets"
   ]
  },
  {
   "cell_type": "markdown",
   "metadata": {
    "slideshow": {
     "slide_type": "slide"
    }
   },
   "source": [
    "# Programming exercises"
   ]
  },
  {
   "cell_type": "markdown",
   "metadata": {},
   "source": [
    "Practice and exercises will be based on Python:\n",
    "* no previous knowledge of Python is required\n",
    "* all skills you need to do the exercises should be covered in the practice sessions\n",
    "* if you have any questions, ask the tutors or me\n",
    "* keep in mind: this is a machine learning class, not a programming class!"
   ]
  },
  {
   "cell_type": "markdown",
   "metadata": {
    "slideshow": {
     "slide_type": "subslide"
    }
   },
   "source": [
    "Goals:\n",
    "* apply ideas from the lectures\n",
    "* test your understanding\n",
    "* experiment and play"
   ]
  },
  {
   "cell_type": "markdown",
   "metadata": {
    "slideshow": {
     "slide_type": "subslide"
    }
   },
   "source": [
    "There are two programming courses:\n",
    "* Basic Programming in Python [8.3275]\n",
    "  - Course: Wednesday, 14:00 - 16:00, 32/102\n",
    "  - Feedback Sessions: Tuesday, 16:00 - 19:00, 32/110\n",
    "  - Walk-In Sessions: Thursday, 14:00 - 18:00, HS - SL 103\n",
    "* Scientific programming in Python [8.3323]\n",
    "  - Course:   Monday, 14:00 - 16:00, 93/E31\n",
    "  - Tutorial: Wednesday, 14:00 - 16:00, 93/E42"
   ]
  },
  {
   "cell_type": "markdown",
   "metadata": {
    "slideshow": {
     "slide_type": "subslide"
    }
   },
   "source": [
    "You may do the exercises in another language (e.g. Java, Matlab), but:\n",
    "* speak to the tutors first!\n",
    "* other languages will not be covered in the practice sessions!"
   ]
  },
  {
   "cell_type": "markdown",
   "metadata": {
    "slideshow": {
     "slide_type": "slide"
    }
   },
   "source": [
    "# Submission of Exercises"
   ]
  },
  {
   "cell_type": "markdown",
   "metadata": {},
   "source": [
    "* form groups of 3 persons\n",
    "* select a time slot and register in Stud.IP\n",
    "  - please do so until Thursday evening!\n",
    "* solutions should be submitted as Python notebooks (more in a minute)"
   ]
  },
  {
   "cell_type": "markdown",
   "metadata": {
    "slideshow": {
     "slide_type": "slide"
    }
   },
   "source": [
    "## Setup your homework environment\n",
    "\n",
    "### Install Python\n",
    "\n",
    "To be able to run Jupyter Notebooks you will need Python. Follow these instructions to get everything up and running.\n",
    "\n",
    "We recommend to use Anaconda:\n",
    "* Download and install Anaconda from https://www.continuum.io/downloads that contains all important Python packages.\n",
    "* If you have limited diskspace install Miniconda https://conda.io/miniconda.html instead, which contains only conda and Python.\n",
    "Follow the installation instructions on the web site."
   ]
  },
  {
   "cell_type": "markdown",
   "metadata": {
    "slideshow": {
     "slide_type": "subslide"
    }
   },
   "source": [
    "### Setup the `ml` environment\n",
    "Download `ml.yml` from Stud.IP. Then in a terminal navigate to the directory where you saved `ml.yml` and run\n",
    "\n",
    "```sh\n",
    "conda env create -f ml.yml \n",
    "```"
   ]
  },
  {
   "cell_type": "markdown",
   "metadata": {
    "slideshow": {
     "slide_type": "subslide"
    }
   },
   "source": [
    "#### Activate the environment \n",
    "\n",
    "Always activate the enviornment when you work on the homework. \n",
    "\n",
    "Linux/Mac OS:\n",
    "\n",
    "```sh\n",
    "source activate learn\n",
    "```\n",
    "    \n",
    "For Windows:\n",
    "```sh\n",
    "activate learn\n",
    "```"
   ]
  },
  {
   "cell_type": "markdown",
   "metadata": {
    "slideshow": {
     "slide_type": "subslide"
    }
   },
   "source": [
    "#### Dectivate the environment \n",
    "\n",
    "To deactivate the environment again run\n",
    "\n",
    "```sh\n",
    "source deactivate\n",
    "```\n",
    "    \n",
    "For Windows:\n",
    "```sh\n",
    "deactivate\n",
    "```"
   ]
  },
  {
   "cell_type": "markdown",
   "metadata": {
    "slideshow": {
     "slide_type": "slide"
    }
   },
   "source": [
    "### Run Jupyter Notebooks\n",
    "\n",
    "The notebook server has to be started from the command line:\n",
    "* navigate to the directory where you downloaded the notebook to (e.g., `sheet01.ipynb`), e.g. `~/university/ML2018` or `C:\\Users\\Documents\\University\\ML2018` and run jupyter in that directory.\n",
    "\n",
    "```sh\n",
    "cd ~/university/ML2018\n",
    "jupyter notebook\n",
    "```\n",
    "\n",
    "* Usually a browser window should open up. If not, open your favorite webbrowser and navigate to [localhost:8888/tree](localhost:8888/tree).\n",
    "\n",
    "* You will be presented with a list of files, choose `sheet01.ipynb`: You are good to go now and can start working on your homework right away!"
   ]
  }
 ],
 "metadata": {
  "celltoolbar": "Slideshow",
  "kernelspec": {
   "display_name": "Python 3",
   "language": "python",
   "name": "python3"
  },
  "language_info": {
   "codemirror_mode": {
    "name": "ipython",
    "version": 3
   },
   "file_extension": ".py",
   "mimetype": "text/x-python",
   "name": "python",
   "nbconvert_exporter": "python",
   "pygments_lexer": "ipython3",
   "version": "3.6.5"
  },
  "widgets": {
   "state": {},
   "version": "1.0.0"
  }
 },
 "nbformat": 4,
 "nbformat_minor": 1
}
