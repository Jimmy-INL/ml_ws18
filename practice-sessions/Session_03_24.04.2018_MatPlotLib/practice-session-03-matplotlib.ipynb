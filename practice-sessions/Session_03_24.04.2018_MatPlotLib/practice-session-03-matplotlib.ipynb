{
 "cells": [
  {
   "cell_type": "markdown",
   "metadata": {
    "slideshow": {
     "slide_type": "slide"
    }
   },
   "source": [
    "# Machine Learning (Summer 2018)"
   ]
  },
  {
   "cell_type": "markdown",
   "metadata": {},
   "source": [
    "## Practice Session 3"
   ]
  },
  {
   "cell_type": "markdown",
   "metadata": {},
   "source": [
    "April, 24th 2018"
   ]
  },
  {
   "cell_type": "markdown",
   "metadata": {},
   "source": [
    "Ulf Krumnack\n",
    "\n",
    "Institute of Cognitive Science\n",
    "University of Osnabrück"
   ]
  },
  {
   "cell_type": "markdown",
   "metadata": {
    "slideshow": {
     "slide_type": "subslide"
    }
   },
   "source": [
    "## Today's Session"
   ]
  },
  {
   "cell_type": "markdown",
   "metadata": {},
   "source": [
    "* exercise sheet 03\n",
    "* classes and objects in python\n",
    "* finishing NumPy\n",
    "* introduction to MatPlotLib"
   ]
  },
  {
   "cell_type": "markdown",
   "metadata": {
    "slideshow": {
     "slide_type": "slide"
    }
   },
   "source": [
    "# Some basic Object Oriented Programming (OOP)\n",
    "\n",
    "* key concepts: *objects* and *classes*\n",
    "* A class defines a data type, providing attribute values (fields) and methods (functions)"
   ]
  },
  {
   "cell_type": "code",
   "execution_count": null,
   "metadata": {
    "slideshow": {
     "slide_type": "subslide"
    }
   },
   "outputs": [],
   "source": [
    "class Cat:\n",
    "    '''A class representing a cat'''\n",
    "\n",
    "# instantiate two Cats:\n",
    "missy = Cat()\n",
    "lucy = Cat()"
   ]
  },
  {
   "cell_type": "markdown",
   "metadata": {
    "slideshow": {
     "slide_type": "subslide"
    }
   },
   "source": [
    "### Attributes\n",
    "\n",
    "A class can be used bundle attributes for each instance (similar to a dictionary)."
   ]
  },
  {
   "cell_type": "code",
   "execution_count": null,
   "metadata": {},
   "outputs": [],
   "source": [
    "class Cat:\n",
    "    '''A class representing a cat'''\n",
    "\n",
    "# instantiate two Cats:\n",
    "missy = Cat()\n",
    "missy.name = 'Missy'\n",
    "missy.color = 'white'\n",
    "\n",
    "lucy = Cat()\n",
    "lucy.name = 'Lucy'\n",
    "lucy.color = 'black'\n",
    "\n",
    "for cat in missy, lucy:\n",
    "    print(cat.name)"
   ]
  },
  {
   "cell_type": "markdown",
   "metadata": {
    "slideshow": {
     "slide_type": "subslide"
    }
   },
   "source": [
    "### Methods\n",
    "\n",
    "Methods are\n",
    "* functions that are defined insides classes\n",
    "* intended to operate on instances of that class\n",
    "* have a special parameter, named `self`, refering to the instance of the class to be applied to"
   ]
  },
  {
   "cell_type": "code",
   "execution_count": null,
   "metadata": {
    "slideshow": {
     "slide_type": "fragment"
    }
   },
   "outputs": [],
   "source": [
    "class Cat:\n",
    "    '''A class representing a cat'''\n",
    "    \n",
    "    def introduce(self):\n",
    "        print(\"Hi, I am {}\".format(self.name))\n",
    "        \n",
    "missy = Cat()\n",
    "missy.name = 'Missy'\n",
    "\n",
    "lucy = Cat()\n",
    "lucy.name = 'Lucy'\n",
    "\n",
    "for cat in missy, lucy:\n",
    "    cat.introduce()"
   ]
  },
  {
   "cell_type": "markdown",
   "metadata": {
    "slideshow": {
     "slide_type": "subslide"
    }
   },
   "source": [
    "Methods can also take additional arguments."
   ]
  },
  {
   "cell_type": "code",
   "execution_count": null,
   "metadata": {
    "slideshow": {
     "slide_type": "-"
    }
   },
   "outputs": [],
   "source": [
    "class Cat:\n",
    "    '''A class representing a cat'''\n",
    "    \n",
    "    def hello(self, other):\n",
    "        print(\"Hello {}, I am {}\".format(other.name,self.name))\n",
    "        \n",
    "missy = Cat()\n",
    "missy.name = 'Missy'\n",
    "\n",
    "lucy = Cat()\n",
    "lucy.name = 'Lucy'\n",
    "\n",
    "missy.hello(lucy)"
   ]
  },
  {
   "cell_type": "markdown",
   "metadata": {
    "slideshow": {
     "slide_type": "subslide"
    }
   },
   "source": [
    "### Constructors\n",
    "\n",
    "* constructors are special methods\n",
    "* are automatically invoked when a new object is created\n",
    "* intended to initialize the new instance"
   ]
  },
  {
   "cell_type": "code",
   "execution_count": null,
   "metadata": {},
   "outputs": [],
   "source": [
    "class Cat:\n",
    "    '''A class representing a cat'''\n",
    "    \n",
    "    def __init__(self, name):\n",
    "        self.name = name\n",
    "\n",
    "    def introduce(self):\n",
    "        print(\"Hi, I am {}\".format(self.name))\n",
    "\n",
    "missy = Cat('Missy')\n",
    "lucy = Cat('Lucy')\n",
    "\n",
    "missy.introduce()\n",
    "lucy.introduce()"
   ]
  },
  {
   "cell_type": "markdown",
   "metadata": {
    "slideshow": {
     "slide_type": "subslide"
    }
   },
   "source": [
    "### The methods `__repr__` and `__str__`\n",
    "\n",
    "Both function construct a string from an object:\n",
    "* the goal of `__repr__` is to be unambiguous\n",
    "* the goal of `__str__` is to be readable"
   ]
  },
  {
   "cell_type": "code",
   "execution_count": null,
   "metadata": {},
   "outputs": [],
   "source": [
    "class Cat:\n",
    "    '''A class representing a cat'''\n",
    "\n",
    "    def __init__(self, name):\n",
    "        self.name = name\n",
    "        \n",
    "missy = Cat('Missy')\n",
    "print(missy)"
   ]
  },
  {
   "cell_type": "code",
   "execution_count": null,
   "metadata": {
    "slideshow": {
     "slide_type": "subslide"
    }
   },
   "outputs": [],
   "source": [
    "class Cat:\n",
    "    '''A class representing a cat'''\n",
    "    \n",
    "    def __init__(self, name):\n",
    "        self.name = name\n",
    "        \n",
    "    def __repr__(self):\n",
    "        return \"Cat({})\".format(self.name)\n",
    "    \n",
    "    def __str__(self):\n",
    "        return \"A Cat called {}\".format(self.name)\n",
    "    \n",
    "missy = Cat('Missy')\n",
    "print(missy)\n",
    "print([missy])"
   ]
  },
  {
   "cell_type": "markdown",
   "metadata": {
    "slideshow": {
     "slide_type": "subslide"
    }
   },
   "source": [
    "### Inheritance\n",
    "\n",
    "Classes can be derived from other classes\n",
    "* the derived class is called *subclass*, the class derived from is the *base class* or *superclass* \n",
    "* these subclasses inherit the methods from the superclass\n",
    "* they can add new methods\n",
    "* the can *override* (redefine) methods from the superclass"
   ]
  },
  {
   "cell_type": "code",
   "execution_count": null,
   "metadata": {
    "slideshow": {
     "slide_type": "subslide"
    }
   },
   "outputs": [],
   "source": [
    "class Animal:\n",
    "    '''A class to represent animals'''\n",
    "\n",
    "    def __init__(self, name):\n",
    "        self.name = name\n",
    "        \n",
    "    def introduce(self):\n",
    "        print(\"Hi, I am {}\".format(self.name))\n",
    "\n",
    "\n",
    "class Dog(Animal):\n",
    "    '''A class to represent dogs'''\n",
    "\n",
    "    def bark(self):\n",
    "        print(\"arf-arf\")\n",
    "\n",
    "\n",
    "class Cat(Animal):\n",
    "    '''A class to represent cats'''\n",
    "\n",
    "    def introduce(self):\n",
    "        print(\"Meow, I am {}\".format(self.name))\n",
    "\n",
    "\n",
    "fido = Dog('Fido')\n",
    "fido.introduce()\n",
    "fido.bark()\n",
    "\n",
    "missy = Cat('Missy')\n",
    "missy.introduce()"
   ]
  },
  {
   "cell_type": "markdown",
   "metadata": {
    "slideshow": {
     "slide_type": "slide"
    }
   },
   "source": [
    "# Numpy (continued)"
   ]
  },
  {
   "cell_type": "markdown",
   "metadata": {
    "slideshow": {
     "slide_type": "subslide"
    }
   },
   "source": [
    "### Random arrays\n",
    "\n",
    "The subpackage `numpy.random` allows to create arrays filled with random numbers:"
   ]
  },
  {
   "cell_type": "code",
   "execution_count": null,
   "metadata": {},
   "outputs": [],
   "source": [
    "np.random.rand(20) # uniform distribution on [0,1]"
   ]
  },
  {
   "cell_type": "markdown",
   "metadata": {
    "slideshow": {
     "slide_type": "subslide"
    }
   },
   "source": [
    "Multidimensional arrays are possible (but unlike `np.zeros` and `np.ones`, the `random.rand` function does not expect a tuple but an argument list):"
   ]
  },
  {
   "cell_type": "code",
   "execution_count": null,
   "metadata": {},
   "outputs": [],
   "source": [
    "r2 = np.random.rand(4,5)\n",
    "print(r2)"
   ]
  },
  {
   "cell_type": "code",
   "execution_count": null,
   "metadata": {
    "slideshow": {
     "slide_type": "subslide"
    }
   },
   "outputs": [],
   "source": [
    "r3 = np.random.randn(24) # normal distribution with mean 0 and variance 1\n",
    "print(r3)"
   ]
  },
  {
   "cell_type": "markdown",
   "metadata": {
    "slideshow": {
     "slide_type": "subslide"
    }
   },
   "source": [
    "The random number generator can be seeded (reproducibility):"
   ]
  },
  {
   "cell_type": "code",
   "execution_count": null,
   "metadata": {},
   "outputs": [],
   "source": [
    "np.random.seed(42)\n",
    "r3 = np.random.randn(24) # normal distribution with mean 0 and variance 1\n",
    "print(r3)"
   ]
  },
  {
   "cell_type": "markdown",
   "metadata": {
    "slideshow": {
     "slide_type": "slide"
    }
   },
   "source": [
    "## Efficiency"
   ]
  },
  {
   "cell_type": "code",
   "execution_count": null,
   "metadata": {
    "slideshow": {
     "slide_type": "fragment"
    }
   },
   "outputs": [],
   "source": [
    "L = range(2000)"
   ]
  },
  {
   "cell_type": "code",
   "execution_count": null,
   "metadata": {},
   "outputs": [],
   "source": [
    "%timeit [i**2 for i in L]"
   ]
  },
  {
   "cell_type": "code",
   "execution_count": null,
   "metadata": {
    "slideshow": {
     "slide_type": "fragment"
    }
   },
   "outputs": [],
   "source": [
    "a = np.arange(2000)"
   ]
  },
  {
   "cell_type": "code",
   "execution_count": null,
   "metadata": {},
   "outputs": [],
   "source": [
    "%timeit a**2"
   ]
  },
  {
   "cell_type": "markdown",
   "metadata": {
    "slideshow": {
     "slide_type": "slide"
    }
   },
   "source": [
    "## Some general hints"
   ]
  },
  {
   "cell_type": "markdown",
   "metadata": {},
   "source": [
    "Help (the docstring) for function or value can be displayed by appending a question mark to its name:"
   ]
  },
  {
   "cell_type": "code",
   "execution_count": null,
   "metadata": {},
   "outputs": [],
   "source": [
    "np.argmax?"
   ]
  },
  {
   "cell_type": "markdown",
   "metadata": {
    "slideshow": {
     "slide_type": "subslide"
    }
   },
   "source": [
    "looking for something: `np.lookfor('create array')`"
   ]
  },
  {
   "cell_type": "code",
   "execution_count": null,
   "metadata": {},
   "outputs": [],
   "source": [
    "np.lookfor('create array')"
   ]
  },
  {
   "cell_type": "markdown",
   "metadata": {
    "slideshow": {
     "slide_type": "subslide"
    }
   },
   "source": [
    "### References\n",
    "\n",
    "* on the web: http://docs.scipy.org/"
   ]
  },
  {
   "cell_type": "markdown",
   "metadata": {
    "slideshow": {
     "slide_type": "slide"
    }
   },
   "source": [
    "# Introduction to Matplotlib\n",
    "\n",
    "Based on the chapter on [matplotlib - 2D and 3D plotting in Python](https://github.com/jrjohansson/scientific-python-lectures/blob/master/Lecture-4-Matplotlib.ipynb) from\n",
    "Robert Johansson's [Lectures on scientific computing with Python](https://github.com/jrjohansson/scientific-python-lectures)."
   ]
  },
  {
   "cell_type": "markdown",
   "metadata": {
    "slideshow": {
     "slide_type": "subslide"
    }
   },
   "source": [
    "Matplotlib is an excellent 2D and 3D graphics library for generating scientific figures. Some of the many advantages of this library include:\n",
    "\n",
    "* Easy to get started\n",
    "* Great control of every element in a figure, including figure size and DPI. \n",
    "* Support for $\\LaTeX$ formatted labels and texts\n",
    "* High-quality output in many formats, including PNG, PDF, SVG, EPS, and PGF.\n",
    "* GUI for interactively exploring figures *and* support for headless generation of figure files (useful for batch jobs).\n",
    "* all aspects of the figure can be controlled *programmatically*\n",
    "\n",
    "More information at the Matplotlib web page: http://matplotlib.org/"
   ]
  },
  {
   "cell_type": "markdown",
   "metadata": {
    "slideshow": {
     "slide_type": "subslide"
    }
   },
   "source": [
    "To get started using Matplotlib in a Python program, import `matplotlib` and/or `matplotlib.plt`:"
   ]
  },
  {
   "cell_type": "code",
   "execution_count": null,
   "metadata": {},
   "outputs": [],
   "source": [
    "import matplotlib\n",
    "import matplotlib.pyplot as plt"
   ]
  },
  {
   "cell_type": "code",
   "execution_count": null,
   "metadata": {},
   "outputs": [],
   "source": [
    "import numpy as np"
   ]
  },
  {
   "cell_type": "markdown",
   "metadata": {
    "slideshow": {
     "slide_type": "subslide"
    }
   },
   "source": [
    "## Example: plotting a function"
   ]
  },
  {
   "cell_type": "code",
   "execution_count": null,
   "metadata": {
    "slideshow": {
     "slide_type": "fragment"
    }
   },
   "outputs": [],
   "source": [
    "x = np.linspace(0, 5, 10)\n",
    "y = x ** 2\n",
    "\n",
    "plt.figure()\n",
    "plt.plot(x, y)\n",
    "plt.show()"
   ]
  },
  {
   "cell_type": "markdown",
   "metadata": {
    "slideshow": {
     "slide_type": "subslide"
    }
   },
   "source": [
    "One can also place multiple plots into one graph:"
   ]
  },
  {
   "cell_type": "code",
   "execution_count": null,
   "metadata": {},
   "outputs": [],
   "source": [
    "plt.figure()\n",
    "plt.plot(x, x)\n",
    "plt.plot(x, x**2)\n",
    "plt.show()"
   ]
  },
  {
   "cell_type": "markdown",
   "metadata": {
    "slideshow": {
     "slide_type": "subslide"
    }
   },
   "source": [
    "or more compact:"
   ]
  },
  {
   "cell_type": "code",
   "execution_count": null,
   "metadata": {},
   "outputs": [],
   "source": [
    "plt.figure()\n",
    "plt.plot(x, x, x, x**2)\n",
    "plt.show()"
   ]
  },
  {
   "cell_type": "markdown",
   "metadata": {
    "slideshow": {
     "slide_type": "subslide"
    }
   },
   "source": [
    "Exercises:\n",
    "1. Draw the sine (`np.sin`) and cosine (`np.cos`) curve on the interval $[0,2\\pi]$ into one graph ($\\pi$ = `np.pi`)\n",
    "1. Draw a circle into a graph"
   ]
  },
  {
   "cell_type": "code",
   "execution_count": null,
   "metadata": {
    "deletable": false,
    "nbgrader": {
     "checksum": "1525df63a62102ff6542f479e1b52125",
     "grade": true,
     "grade_id": "cell-a6f0f0666d42fdaf",
     "locked": false,
     "points": 0,
     "schema_version": 1,
     "solution": true
    },
    "slideshow": {
     "slide_type": "subslide"
    }
   },
   "outputs": [],
   "source": [
    "# YOUR CODE HERE"
   ]
  },
  {
   "cell_type": "code",
   "execution_count": null,
   "metadata": {
    "deletable": false,
    "nbgrader": {
     "checksum": "0563ca01ddd111e39cca429ebac51e48",
     "grade": true,
     "grade_id": "cell-44876ac9680b61dd",
     "locked": false,
     "points": 0,
     "schema_version": 1,
     "solution": true
    },
    "slideshow": {
     "slide_type": "subslide"
    }
   },
   "outputs": [],
   "source": [
    "# YOUR CODE HERE"
   ]
  },
  {
   "cell_type": "markdown",
   "metadata": {
    "slideshow": {
     "slide_type": "slide"
    }
   },
   "source": [
    "## Setting colors, linewidths, linetypes"
   ]
  },
  {
   "cell_type": "markdown",
   "metadata": {},
   "source": [
    "Matplotlib, provides multiple was to specify color, linewidth, and linetype."
   ]
  },
  {
   "cell_type": "markdown",
   "metadata": {
    "slideshow": {
     "slide_type": "subslide"
    }
   },
   "source": [
    "### Colors"
   ]
  },
  {
   "cell_type": "markdown",
   "metadata": {
    "slideshow": {
     "slide_type": "fragment"
    }
   },
   "source": [
    "* colors can be provided using the `color=` argument\n",
    "* Matplotlib understands colors by their names or RGB hex codes\n",
    "* an optional `alpha` value can be provided"
   ]
  },
  {
   "cell_type": "code",
   "execution_count": null,
   "metadata": {
    "slideshow": {
     "slide_type": "subslide"
    }
   },
   "outputs": [],
   "source": [
    "plt.figure()\n",
    "plt.plot(x, x+1, color=\"red\")              # half-transparant red\n",
    "plt.plot(x, x+2, color=\"#1155dd\")       # RGB hex code for a bluish color\n",
    "plt.plot(x, x+3, color=\"green\", alpha=0.5) # half-transparant green\n",
    "plt.show()"
   ]
  },
  {
   "cell_type": "markdown",
   "metadata": {
    "slideshow": {
     "slide_type": "subslide"
    }
   },
   "source": [
    "### Line width"
   ]
  },
  {
   "cell_type": "markdown",
   "metadata": {},
   "source": [
    "* the line width can be changed using the `linewidth` or `lw` keyword argument"
   ]
  },
  {
   "cell_type": "code",
   "execution_count": null,
   "metadata": {},
   "outputs": [],
   "source": [
    "plt.figure()\n",
    "plt.plot(x, x, color=\"red\")\n",
    "plt.plot(x, x-1, color=\"red\", linewidth=0.5)\n",
    "plt.plot(x, x+1, color=\"red\", lw=2)\n",
    "plt.show()"
   ]
  },
  {
   "cell_type": "markdown",
   "metadata": {
    "slideshow": {
     "slide_type": "subslide"
    }
   },
   "source": [
    "### Line style"
   ]
  },
  {
   "cell_type": "markdown",
   "metadata": {},
   "source": [
    "* the line style can be changed using the `linestyle` or `ls` keyword argument"
   ]
  },
  {
   "cell_type": "code",
   "execution_count": null,
   "metadata": {},
   "outputs": [],
   "source": [
    "plt.figure()\n",
    "plt.plot(x, x, color=\"red\")\n",
    "plt.plot(x, x+1, color=\"red\", linestyle='-')\n",
    "plt.plot(x, x+2, color=\"red\", ls='-.')\n",
    "plt.plot(x, x+3, color=\"red\", ls=':')\n",
    "plt.show()"
   ]
  },
  {
   "cell_type": "markdown",
   "metadata": {
    "slideshow": {
     "slide_type": "subslide"
    }
   },
   "source": [
    "### Marker\n",
    "\n",
    "* Markers can be formated using the `marker` keyword argument\n",
    "* markers can be further formated using `markersize`, `markerfacecolor`, `markeredgewidth`, and `markeredgecolor`"
   ]
  },
  {
   "cell_type": "code",
   "execution_count": null,
   "metadata": {},
   "outputs": [],
   "source": [
    "plt.figure()\n",
    "plt.plot(x, x, color=\"red\")\n",
    "plt.plot(x, x+1, color=\"red\", marker='+')\n",
    "plt.plot(x, x+2, color=\"red\", marker='*')\n",
    "plt.plot(x, x+3, color=\"red\", marker='o')\n",
    "plt.plot(x, x+4, color=\"red\", marker='s')\n",
    "plt.plot(x, x+5, color=\"red\", marker='*',\n",
    "         markersize=15, markerfacecolor=\"yellow\",\n",
    "         markeredgewidth=2, markeredgecolor=\"blue\")\n",
    "plt.show()"
   ]
  },
  {
   "cell_type": "markdown",
   "metadata": {
    "slideshow": {
     "slide_type": "subslide"
    }
   },
   "source": [
    "### Compact formating\n",
    "\n",
    "* Plots can be formated using short format string, e.g., `'b.-'` means a blue line with dots"
   ]
  },
  {
   "cell_type": "code",
   "execution_count": null,
   "metadata": {},
   "outputs": [],
   "source": [
    "plt.figure()\n",
    "plt.plot(x, x**2, 'b.-') # blue line with dots\n",
    "plt.plot(x, x**3, 'g:*') # green dotted line with stars\n",
    "plt.show()"
   ]
  },
  {
   "cell_type": "markdown",
   "metadata": {
    "slideshow": {
     "slide_type": "subslide"
    }
   },
   "source": [
    "Exercises:\n",
    "1. Draw a red sine curve and a dotted green cosine curve on the interval $[0,2\\pi]$ into one graph.\n",
    "1. Draw a blue regular polygon (with $n$ corners, each corner marked with a red star)"
   ]
  },
  {
   "cell_type": "code",
   "execution_count": null,
   "metadata": {
    "deletable": false,
    "nbgrader": {
     "checksum": "64e38e1c45a853f8a9e59e5167975165",
     "grade": true,
     "grade_id": "cell-5c184f673c64449e",
     "locked": false,
     "points": 0,
     "schema_version": 1,
     "solution": true
    },
    "slideshow": {
     "slide_type": "subslide"
    }
   },
   "outputs": [],
   "source": [
    "# YOUR CODE HERE"
   ]
  },
  {
   "cell_type": "code",
   "execution_count": null,
   "metadata": {
    "deletable": false,
    "nbgrader": {
     "checksum": "87d3677a06f1a967bdea6f5596711dd3",
     "grade": true,
     "grade_id": "cell-027d53fdc798cb5a",
     "locked": false,
     "points": 0,
     "schema_version": 1,
     "solution": true
    },
    "slideshow": {
     "slide_type": "subslide"
    }
   },
   "outputs": [],
   "source": [
    "# YOUR CODE HERE"
   ]
  },
  {
   "cell_type": "markdown",
   "metadata": {
    "slideshow": {
     "slide_type": "slide"
    }
   },
   "source": [
    "## Legends, labels and titles, annotations"
   ]
  },
  {
   "cell_type": "markdown",
   "metadata": {},
   "source": [
    "Usually, you should be \"decorated\" your figure to explain what is depicted."
   ]
  },
  {
   "cell_type": "markdown",
   "metadata": {
    "slideshow": {
     "slide_type": "subslide"
    }
   },
   "source": [
    "### Figure titles\n",
    "\n",
    "A title can be added to each axis instance in a figure. To set the title, use the `set_title` method in the axes instance:"
   ]
  },
  {
   "cell_type": "code",
   "execution_count": null,
   "metadata": {},
   "outputs": [],
   "source": [
    "x = np.linspace(0,2*np.pi,70)\n",
    "plt.figure()\n",
    "plt.plot(x, np.sin(x), x, np.cos(x))\n",
    "plt.title(\"Sine and cosine\")\n",
    "plt.show()"
   ]
  },
  {
   "cell_type": "markdown",
   "metadata": {
    "slideshow": {
     "slide_type": "subslide"
    }
   },
   "source": [
    "### Axis labels\n",
    "\n",
    "Similarly, with the methods `set_xlabel` and `set_ylabel`, we can set the labels of the X and Y axes:"
   ]
  },
  {
   "cell_type": "code",
   "execution_count": null,
   "metadata": {},
   "outputs": [],
   "source": [
    "x = np.linspace(0,2*np.pi,70)\n",
    "plt.figure()\n",
    "plt.plot(x, np.sin(x), x, np.cos(x))\n",
    "plt.xlabel(\"x\")\n",
    "plt.ylabel(\"y\")\n",
    "plt.show()"
   ]
  },
  {
   "cell_type": "markdown",
   "metadata": {
    "slideshow": {
     "slide_type": "subslide"
    }
   },
   "source": [
    "### Legends\n",
    "\n",
    "Legends can be added to curves by providing a `label` for each plot and calling the `legend` method."
   ]
  },
  {
   "cell_type": "code",
   "execution_count": null,
   "metadata": {},
   "outputs": [],
   "source": [
    "x = np.linspace(0,2*np.pi,70)\n",
    "plt.figure()\n",
    "plt.plot(x, np.sin(x), label='sine')\n",
    "plt.plot(x, np.cos(x), label='cosine')\n",
    "plt.legend()\n",
    "plt.show()"
   ]
  },
  {
   "cell_type": "markdown",
   "metadata": {
    "slideshow": {
     "slide_type": "subslide"
    }
   },
   "source": [
    "### Text annotations\n",
    "\n",
    "* test annotations in matplotlib figures can be added using the `text` function.\n",
    "* the `text` function supports LaTeX formatting just like axis label texts and titles"
   ]
  },
  {
   "cell_type": "code",
   "execution_count": null,
   "metadata": {
    "slideshow": {
     "slide_type": "-"
    }
   },
   "outputs": [],
   "source": [
    "x = np.linspace(-0.75, 1., 100)\n",
    "\n",
    "plt.figure()\n",
    "plt.plot(x, x**2, x, x**3)\n",
    "plt.text(0.15, 0.2, \"$\\sum$\", fontsize=40, color=\"blue\")\n",
    "plt.text(0.65, 0.1, \"$y=x^3$\", fontsize=20, color=\"green\");\n",
    "plt.show()"
   ]
  },
  {
   "cell_type": "markdown",
   "metadata": {
    "slideshow": {
     "slide_type": "subslide"
    }
   },
   "source": [
    "Exercises:\n",
    "1. Draw a sine and a cosine curve into a graph and decorate it with axis label, title and legend in the lower right corner (look up the documentation to learn how to position the legend).\n",
    "1. Mark the point $(\\pi,0)$ in the point an place the label $\\pi$ next to it"
   ]
  },
  {
   "cell_type": "code",
   "execution_count": null,
   "metadata": {
    "deletable": false,
    "nbgrader": {
     "checksum": "5a2ea6fd9e13f2068069b2ff285a4dfb",
     "grade": true,
     "grade_id": "cell-562838336af50097",
     "locked": false,
     "points": 0,
     "schema_version": 1,
     "solution": true
    },
    "slideshow": {
     "slide_type": "subslide"
    }
   },
   "outputs": [],
   "source": [
    "# YOUR CODE HERE"
   ]
  },
  {
   "cell_type": "markdown",
   "metadata": {
    "slideshow": {
     "slide_type": "slide"
    }
   },
   "source": [
    "## Other 2D plot styles"
   ]
  },
  {
   "cell_type": "markdown",
   "metadata": {},
   "source": [
    "* in addition to the regular `plot` method, there are a number of other functions for generating different kind of plots\n",
    "* see the matplotlib plot gallery for a complete list of available plot types: http://matplotlib.org/gallery.html"
   ]
  },
  {
   "cell_type": "code",
   "execution_count": null,
   "metadata": {
    "slideshow": {
     "slide_type": "subslide"
    }
   },
   "outputs": [],
   "source": [
    "# A scatter plot\n",
    "n = 500\n",
    "x = np.random.randn(n)\n",
    "y = np.random.randn(n)\n",
    "\n",
    "plt.figure()\n",
    "plt.scatter(x,y)\n",
    "plt.title(\"scatter\")\n",
    "plt.show()"
   ]
  },
  {
   "cell_type": "code",
   "execution_count": null,
   "metadata": {
    "slideshow": {
     "slide_type": "subslide"
    }
   },
   "outputs": [],
   "source": [
    "# A step function\n",
    "n = np.array([0,1,2,3,4,5])\n",
    "plt.figure()\n",
    "plt.step(n, 10-n**2, lw=2)\n",
    "plt.title(\"step\")\n",
    "plt.show()"
   ]
  },
  {
   "cell_type": "code",
   "execution_count": null,
   "metadata": {
    "slideshow": {
     "slide_type": "subslide"
    }
   },
   "outputs": [],
   "source": [
    "# A bar diagram\n",
    "plt.figure()\n",
    "plt.bar(n, n**2, align=\"center\", width=0.5, alpha=0.5)\n",
    "plt.title(\"bar\")\n",
    "plt.show()"
   ]
  },
  {
   "cell_type": "code",
   "execution_count": null,
   "metadata": {
    "slideshow": {
     "slide_type": "subslide"
    }
   },
   "outputs": [],
   "source": [
    "x = np.linspace(0,2*np.pi,70)\n",
    "plt.figure()\n",
    "plt.fill_between(x, np.sin(x), np.cos(x), color=\"green\", alpha=0.5)\n",
    "plt.title(\"fill_between\")\n",
    "plt.show()"
   ]
  },
  {
   "cell_type": "code",
   "execution_count": null,
   "metadata": {
    "slideshow": {
     "slide_type": "subslide"
    }
   },
   "outputs": [],
   "source": [
    "# A histogram\n",
    "n = np.random.randn(100000)\n",
    "fig, axes = plt.subplots()\n",
    "\n",
    "axes.hist(n)\n",
    "axes.set_title(\"Default histogram\")\n",
    "axes.set_xlim((min(n), max(n)));"
   ]
  },
  {
   "cell_type": "markdown",
   "metadata": {},
   "source": [
    "Exercises:\n",
    "\n",
    "1. Create a normally distributed 2D dataset with given mean and standard derivation.\n",
    "2. Create a scatter plot to display your dataset\n",
    "3. Indicate the standard deviation by adding a corresponding circle to your plot"
   ]
  },
  {
   "cell_type": "code",
   "execution_count": null,
   "metadata": {
    "deletable": false,
    "nbgrader": {
     "checksum": "4a482a2b80cbcaa6c5c5f0b5b40134ca",
     "grade": true,
     "grade_id": "cell-17816028f1ffc282",
     "locked": false,
     "points": 0,
     "schema_version": 1,
     "solution": true
    },
    "slideshow": {
     "slide_type": "subslide"
    }
   },
   "outputs": [],
   "source": [
    "# YOUR CODE HERE"
   ]
  },
  {
   "cell_type": "markdown",
   "metadata": {
    "slideshow": {
     "slide_type": "slide"
    }
   },
   "source": [
    "# Summary\n",
    "\n",
    "* MatPlotLib provides plotting functionality\n",
    "* Today we saw some basic concepts that should allow you to do most of the exercises\n",
    "* We may introduce some additional functionality in future sessions\n",
    "* For the curious one: visit [https://matplotlib.org/]"
   ]
  }
 ],
 "metadata": {
  "kernelspec": {
   "display_name": "Python 3",
   "language": "python",
   "name": "python3"
  },
  "language_info": {
   "codemirror_mode": {
    "name": "ipython",
    "version": 3
   },
   "file_extension": ".py",
   "mimetype": "text/x-python",
   "name": "python",
   "nbconvert_exporter": "python",
   "pygments_lexer": "ipython3",
   "version": "3.6.5"
  }
 },
 "nbformat": 4,
 "nbformat_minor": 2
}
