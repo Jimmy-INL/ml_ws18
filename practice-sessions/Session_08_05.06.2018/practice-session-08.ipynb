{
 "cells": [
  {
   "cell_type": "markdown",
   "metadata": {
    "slideshow": {
     "slide_type": "slide"
    }
   },
   "source": [
    "# Machine Learning (Summer 2018)"
   ]
  },
  {
   "cell_type": "markdown",
   "metadata": {},
   "source": [
    "## Practice Session 8"
   ]
  },
  {
   "cell_type": "markdown",
   "metadata": {},
   "source": [
    "June, 5th 2018"
   ]
  },
  {
   "cell_type": "markdown",
   "metadata": {},
   "source": [
    "Ulf Krumnack\n",
    "\n",
    "Institute of Cognitive Science\n",
    "University of Osnabrück"
   ]
  },
  {
   "cell_type": "markdown",
   "metadata": {
    "slideshow": {
     "slide_type": "subslide"
    }
   },
   "source": [
    "## Today's Session"
   ]
  },
  {
   "cell_type": "markdown",
   "metadata": {},
   "source": [
    "* exercise sheet 09\n",
    "* TensorFlow basics"
   ]
  },
  {
   "cell_type": "markdown",
   "metadata": {
    "heading_collapsed": true,
    "nbgrader": {
     "grade": false,
     "grade_id": "ex3",
     "locked": true,
     "schema_version": 1,
     "solution": false
    },
    "slideshow": {
     "slide_type": "slide"
    }
   },
   "source": [
    "# TensorFlow Basics\n",
    "\n"
   ]
  },
  {
   "cell_type": "markdown",
   "metadata": {},
   "source": [
    "Prerequisites:\n",
    "* you have to install TensorFlow into your conda environment (`ml`)\n",
    "```sh\n",
    "conda install tensorflow\n",
    "```\n",
    "(there is also a package `tensorflow-gpu` that includes CUDA based GPU computation)."
   ]
  },
  {
   "cell_type": "code",
   "execution_count": null,
   "metadata": {
    "slideshow": {
     "slide_type": "subslide"
    }
   },
   "outputs": [],
   "source": [
    "import tensorflow as tf\n",
    "tf.InteractiveSession()\n",
    "tf.__version__"
   ]
  },
  {
   "cell_type": "markdown",
   "metadata": {
    "slideshow": {
     "slide_type": "slide"
    }
   },
   "source": [
    "## Workflow of TensorFlow\n",
    "\n",
    "Tensorflow is based on computational graphs:\n",
    "1. Define a graph\n",
    "2. Run the graph in a session"
   ]
  },
  {
   "cell_type": "markdown",
   "metadata": {
    "slideshow": {
     "slide_type": "slide"
    }
   },
   "source": [
    "## Computational graphs\n",
    "\n"
   ]
  },
  {
   "cell_type": "code",
   "execution_count": null,
   "metadata": {},
   "outputs": [],
   "source": [
    "tf.reset_default_graph()\n",
    "\n",
    "one = tf.constant(1, name=\"a\")\n",
    "two = tf.constant(2, name=\"b\")\n",
    "three = tf.constant(3, name=\"c\")\n",
    "\n",
    "# sum = tf.add(one,two, name=\"our_sum\")\n",
    "#sum2 = one + two\n",
    "mult = (one + two) * three"
   ]
  },
  {
   "cell_type": "markdown",
   "metadata": {
    "slideshow": {
     "slide_type": "subslide"
    }
   },
   "source": [
    "### Inspecting the graph"
   ]
  },
  {
   "cell_type": "code",
   "execution_count": null,
   "metadata": {},
   "outputs": [],
   "source": [
    "tf.get_default_graph().get_operations()"
   ]
  },
  {
   "cell_type": "markdown",
   "metadata": {
    "slideshow": {
     "slide_type": "slide"
    }
   },
   "source": [
    "### Visualizing the Graph\n",
    "\n",
    "TensorFlow provides its own tool for visualization tasks: TensorBoard\n",
    "\n",
    "Idea:\n",
    "1. store data to visualize\n",
    "2. run TensorBoard to visualize this data\n",
    "\n",
    "Here: we want to visualize the graph structure"
   ]
  },
  {
   "cell_type": "markdown",
   "metadata": {
    "slideshow": {
     "slide_type": "subslide"
    }
   },
   "source": [
    "Step 1: Create a log directory (make sure that it is empty):"
   ]
  },
  {
   "cell_type": "code",
   "execution_count": null,
   "metadata": {},
   "outputs": [],
   "source": [
    "log_dir = 'mylog'\n",
    "\n",
    "def prepare_log_dir():\n",
    "    if tf.gfile.Exists(log_dir):\n",
    "        tf.gfile.DeleteRecursively(log_dir)\n",
    "    tf.gfile.MakeDirs(log_dir)\n",
    "\n",
    "prepare_log_dir()"
   ]
  },
  {
   "cell_type": "markdown",
   "metadata": {
    "slideshow": {
     "slide_type": "subslide"
    }
   },
   "source": [
    "Step 2: Write the graph info into that directory"
   ]
  },
  {
   "cell_type": "code",
   "execution_count": null,
   "metadata": {},
   "outputs": [],
   "source": [
    "writer = tf.summary.FileWriter(log_dir, tf.get_default_graph())\n",
    "writer.close()"
   ]
  },
  {
   "cell_type": "markdown",
   "metadata": {
    "slideshow": {
     "slide_type": "subslide"
    }
   },
   "source": [
    "Step 3: Start TensorBoard to view the graph"
   ]
  },
  {
   "cell_type": "code",
   "execution_count": null,
   "metadata": {
    "scrolled": false
   },
   "outputs": [],
   "source": [
    "!tensorboard --logdir=mylog"
   ]
  },
  {
   "cell_type": "markdown",
   "metadata": {
    "slideshow": {
     "slide_type": "slide"
    }
   },
   "source": [
    "## Sessions\n",
    "\n",
    "A session places a graph onto a computation device and provides methods to execute it."
   ]
  },
  {
   "cell_type": "code",
   "execution_count": null,
   "metadata": {},
   "outputs": [],
   "source": [
    "sess = tf.Session()"
   ]
  },
  {
   "cell_type": "markdown",
   "metadata": {
    "slideshow": {
     "slide_type": "subslide"
    }
   },
   "source": [
    "To evaluate a graph we have to run it in a session:"
   ]
  },
  {
   "cell_type": "code",
   "execution_count": null,
   "metadata": {},
   "outputs": [],
   "source": [
    "result = sess.run(one)\n",
    "print(result)"
   ]
  },
  {
   "cell_type": "markdown",
   "metadata": {
    "slideshow": {
     "slide_type": "fragment"
    }
   },
   "source": [
    "This code will compute the value of the tensor `sum` by\n",
    "* first computing all predecessors of `sum`\n",
    "* applying the operation (+) to these values\n",
    "\n",
    "The value of the target tensor(s) is returned."
   ]
  },
  {
   "cell_type": "markdown",
   "metadata": {
    "slideshow": {
     "slide_type": "subslide"
    }
   },
   "source": [
    "An alternative notation:"
   ]
  },
  {
   "cell_type": "code",
   "execution_count": null,
   "metadata": {},
   "outputs": [],
   "source": [
    "result = mult.eval(session=sess)\n",
    "print(result)"
   ]
  },
  {
   "cell_type": "markdown",
   "metadata": {
    "slideshow": {
     "slide_type": "fragment"
    }
   },
   "source": [
    "The main difference is that `run` allows to evaluate multiple tensors:"
   ]
  },
  {
   "cell_type": "code",
   "execution_count": null,
   "metadata": {},
   "outputs": [],
   "source": [
    "result = sess.run((one,mult,two))\n",
    "print(result)"
   ]
  },
  {
   "cell_type": "markdown",
   "metadata": {
    "slideshow": {
     "slide_type": "slide"
    }
   },
   "source": [
    "## Placeholders"
   ]
  },
  {
   "cell_type": "markdown",
   "metadata": {},
   "source": [
    "Tensorflow allows to put placeholders in a graph:\n",
    "* a placeholder is an empty node in the graph\n",
    "* a value for a placeholder is provided when the graph is run in a session"
   ]
  },
  {
   "cell_type": "markdown",
   "metadata": {
    "slideshow": {
     "slide_type": "subslide"
    }
   },
   "source": [
    "Placeholders can be created with the `tf.placeholder` method:"
   ]
  },
  {
   "cell_type": "code",
   "execution_count": null,
   "metadata": {
    "slideshow": {
     "slide_type": "-"
    }
   },
   "outputs": [],
   "source": [
    "tf.reset_default_graph()\n",
    "\n",
    "param_x = tf.placeholder(dtype=tf.float32, name='x')\n",
    "param_y = tf.placeholder(dtype=tf.float32, name='y')\n",
    "\n",
    "sum_params = param_x + param_y"
   ]
  },
  {
   "cell_type": "markdown",
   "metadata": {
    "slideshow": {
     "slide_type": "subslide"
    }
   },
   "source": [
    "When visualizing the graph, placeholders are depicted as follows:"
   ]
  },
  {
   "cell_type": "code",
   "execution_count": null,
   "metadata": {},
   "outputs": [],
   "source": [
    "prepare_log_dir()\n",
    "\n",
    "writer = tf.summary.FileWriter(log_dir, tf.get_default_graph())\n",
    "writer.close()"
   ]
  },
  {
   "cell_type": "code",
   "execution_count": null,
   "metadata": {
    "scrolled": false
   },
   "outputs": [],
   "source": [
    "!tensorboard --logdir=mylog"
   ]
  },
  {
   "cell_type": "markdown",
   "metadata": {
    "slideshow": {
     "slide_type": "subslide"
    }
   },
   "source": [
    "To provide values for the placeholders upon execution, a `feed_dict` has to be provided:"
   ]
  },
  {
   "cell_type": "code",
   "execution_count": null,
   "metadata": {
    "scrolled": false
   },
   "outputs": [],
   "source": [
    "with tf.Session() as sess:\n",
    "    result = sess.run(sum_params, feed_dict={param_x: 3, param_y: 2})\n",
    "print(result)"
   ]
  },
  {
   "cell_type": "markdown",
   "metadata": {
    "slideshow": {
     "slide_type": "subslide"
    }
   },
   "source": [
    "This is also possible when using the `eval` method:"
   ]
  },
  {
   "cell_type": "code",
   "execution_count": null,
   "metadata": {},
   "outputs": [],
   "source": [
    "with tf.Session() as sess:\n",
    "    result = sum_params.eval(session=sess, feed_dict={param_x: 1, param_y: 2})\n",
    "print(result)"
   ]
  },
  {
   "cell_type": "markdown",
   "metadata": {
    "slideshow": {
     "slide_type": "subslide"
    }
   },
   "source": [
    "Instead of scalars, one can also provide vectors (or other arrays) for the placeholders:"
   ]
  },
  {
   "cell_type": "code",
   "execution_count": null,
   "metadata": {},
   "outputs": [],
   "source": [
    "with tf.Session() as sess:\n",
    "    result = sum_params.eval(session=sess, feed_dict={param_x: [1,2,3], param_y: 3})\n",
    "print(result)"
   ]
  },
  {
   "cell_type": "markdown",
   "metadata": {
    "slideshow": {
     "slide_type": "subslide"
    }
   },
   "source": [
    "Exercise:\n",
    "* Implement the function $f(x)\\mapsto (x-4.2)^2$ as a computational graph\n",
    "* Run the graph to evaluate the $f(0)$, $f(4)$ and $f(5)$\n",
    "* Plot the function using matplotlib"
   ]
  },
  {
   "cell_type": "code",
   "execution_count": null,
   "metadata": {},
   "outputs": [],
   "source": [
    "t = [1,2,'*']\n",
    "plt.figure()\n",
    "plt.plot(*t)\n",
    "plt.show()"
   ]
  },
  {
   "cell_type": "code",
   "execution_count": null,
   "metadata": {},
   "outputs": [],
   "source": [
    "import numpy as np\n",
    "import matplotlib.pyplot as plt\n",
    "\n",
    "x = tf.placeholder(dtype=tf.float32, name=\"x\")\n",
    "c = tf.constant(4.2)\n",
    "\n",
    "f = (x-c)**2\n",
    "\n",
    "xvals = np.linspace(0,10,100)\n",
    "sess = tf.Session()\n",
    "plt.figure()\n",
    "plt.plot(*sess.run((x,f),feed_dict={x:xvals}))\n",
    "plt.show()\n",
    "# YOUR CODE HERE"
   ]
  },
  {
   "cell_type": "markdown",
   "metadata": {
    "slideshow": {
     "slide_type": "slide"
    }
   },
   "source": [
    "## Variables\n",
    "\n",
    "TensorFlow variables are nodes that hold a value that can change:\n",
    "* they have to be given an initial value upon creation\n",
    "* the value of a variable can be changed\n",
    "* the main idea of variables is to hold model parameters"
   ]
  },
  {
   "cell_type": "markdown",
   "metadata": {
    "slideshow": {
     "slide_type": "subslide"
    }
   },
   "source": [
    "Upon creation, an initial value has to be provided:\n",
    "* in practice, this often is some random number"
   ]
  },
  {
   "cell_type": "code",
   "execution_count": null,
   "metadata": {},
   "outputs": [],
   "source": [
    "tf.reset_default_graph()\n",
    "\n",
    "var_theta = tf.Variable(3, name=\"theta\")\n",
    "var_rand = tf.Variable(tf.random_normal(shape = []))"
   ]
  },
  {
   "cell_type": "markdown",
   "metadata": {
    "slideshow": {
     "slide_type": "subslide"
    }
   },
   "source": [
    "The variables of a graph have to be initialized before they can be evaluated:\n",
    "* this can be achieved with the method `tf.global_variables_initializer()`"
   ]
  },
  {
   "cell_type": "code",
   "execution_count": null,
   "metadata": {},
   "outputs": [],
   "source": [
    "with tf.Session() as sess:\n",
    "    sess.run(tf.global_variables_initializer())\n",
    "    print(sess.run((var_theta, var_rand)))"
   ]
  },
  {
   "cell_type": "markdown",
   "metadata": {
    "slideshow": {
     "slide_type": "slide"
    }
   },
   "source": [
    "## Gradient descent"
   ]
  },
  {
   "cell_type": "code",
   "execution_count": null,
   "metadata": {},
   "outputs": [],
   "source": [
    "tf.reset_default_graph()\n",
    "\n",
    "x = tf.Variable(tf.zeros(dtype=tf.float32, shape=[]), trainable=True, name='X')\n",
    "c = tf.placeholder(dtype=tf.float32)\n",
    "f = (x - c) ** 2"
   ]
  },
  {
   "cell_type": "code",
   "execution_count": null,
   "metadata": {},
   "outputs": [],
   "source": [
    "with tf.Session() as sess:\n",
    "    sess.run(tf.global_variables_initializer())\n",
    "    print(\"f({}) = {}\".format(*sess.run((x,f), feed_dict={c: 4.2})))"
   ]
  },
  {
   "cell_type": "markdown",
   "metadata": {
    "slideshow": {
     "slide_type": "subslide"
    }
   },
   "source": [
    "As Tenserflow knows the function definition, it can automatically compute the gradients:"
   ]
  },
  {
   "cell_type": "code",
   "execution_count": null,
   "metadata": {},
   "outputs": [],
   "source": [
    "gradient = tf.gradients(f,x)"
   ]
  },
  {
   "cell_type": "markdown",
   "metadata": {
    "slideshow": {
     "slide_type": "subslide"
    }
   },
   "source": [
    "The gradient can be evaluated like every other tensor:"
   ]
  },
  {
   "cell_type": "code",
   "execution_count": null,
   "metadata": {},
   "outputs": [],
   "source": [
    "with tf.Session() as sess:\n",
    "    sess.run(tf.global_variables_initializer())\n",
    "    print(\"f({0}) = {1}, f'({0})={2}\".format(*sess.run((x,f,gradient), feed_dict={c: 4.2})))"
   ]
  },
  {
   "cell_type": "markdown",
   "metadata": {
    "slideshow": {
     "slide_type": "subslide"
    }
   },
   "source": [
    "TensorFlow provides optimizers that are based on gradients, e.g. the `GradientDescentOptimizer`.\n",
    "* note: this implicitly calls `tf.gradient`, so no need to call it explicitly"
   ]
  },
  {
   "cell_type": "code",
   "execution_count": null,
   "metadata": {},
   "outputs": [],
   "source": [
    "optimizer = tf.train.GradientDescentOptimizer(0.1)\n",
    "train_step = optimizer.minimize(error)\n",
    "with tf.Session() as sess:\n",
    "    sess.run(tf.global_variables_initializer())\n",
    "    for i in range(30):\n",
    "        print(\"f({0}) = {1}, f'({0})={2}\".format(*sess.run((x,f,gradient), feed_dict={c: 4.2})))\n",
    "        sess.run(train_step, feed_dict={c: 4.2})\n",
    "        \n",
    "    print(x.eval(sess))"
   ]
  },
  {
   "cell_type": "markdown",
   "metadata": {},
   "source": [
    "**Exercise**: Create a MLP with Tensorflow\n",
    "1. Use a 2-3-2 layer architecture\n",
    "2. Use `tf.sigmoid` as activation function\n",
    "3. User $\\frac12\\sum(out-target)^2$ as error function"
   ]
  },
  {
   "cell_type": "code",
   "execution_count": null,
   "metadata": {},
   "outputs": [],
   "source": [
    "tf.reset_default_graph()\n",
    "\n",
    "x = tf.placeholder(dtype=tf.float32, shape=[2,None], name=\"x\")\n",
    "W1 = tf.Variable(tf.zeros(shape=[2, 3]), name=\"w1\")\n",
    "b1 = tf.Variable(tf.zeros(shape=[3]), name=\"b1\")\n",
    "L1 = tf.sigmoid(tf.matmul(x,W1) + b1)\n",
    "\n",
    "W2 = tf.Variable(tf.zeros(shape=[3, 2]), name=\"w2\")\n",
    "b2 = tf.Variable(tf.zeros(shape=[2]), name=\"b2\")\n",
    "out = tf.sigmoid(tf.matmul(x,W2) + b2)\n",
    "\n",
    "y = tf.placeholder(dtype=tf.float32, shape=[2,None], name=\"y\")\n",
    "\n",
    "error = tf.reduce_sum((out-y)**2)*.5"
   ]
  },
  {
   "cell_type": "markdown",
   "metadata": {
    "slideshow": {
     "slide_type": "slide"
    }
   },
   "source": [
    "Further Reading:\n",
    "\n",
    "* [TensorFlow webpage](https://www.tensorflow.org/tutorials/) with many [Tutorials](https://www.tensorflow.org/tutorials/)"
   ]
  }
 ],
 "metadata": {
  "celltoolbar": "Slideshow",
  "kernelspec": {
   "display_name": "Python 3",
   "language": "python",
   "name": "python3"
  },
  "language_info": {
   "codemirror_mode": {
    "name": "ipython",
    "version": 3
   },
   "file_extension": ".py",
   "mimetype": "text/x-python",
   "name": "python",
   "nbconvert_exporter": "python",
   "pygments_lexer": "ipython3",
   "version": "3.6.5"
  },
  "toc": {
   "base_numbering": 1,
   "nav_menu": {},
   "number_sections": true,
   "sideBar": true,
   "skip_h1_title": false,
   "title_cell": "Table of Contents",
   "title_sidebar": "Contents",
   "toc_cell": false,
   "toc_position": {},
   "toc_section_display": true,
   "toc_window_display": false
  },
  "varInspector": {
   "cols": {
    "lenName": 16,
    "lenType": 16,
    "lenVar": 40
   },
   "kernels_config": {
    "python": {
     "delete_cmd_postfix": "",
     "delete_cmd_prefix": "del ",
     "library": "var_list.py",
     "varRefreshCmd": "print(var_dic_list())"
    },
    "r": {
     "delete_cmd_postfix": ") ",
     "delete_cmd_prefix": "rm(",
     "library": "var_list.r",
     "varRefreshCmd": "cat(var_dic_list()) "
    }
   },
   "types_to_exclude": [
    "module",
    "function",
    "builtin_function_or_method",
    "instance",
    "_Feature"
   ],
   "window_display": false
  }
 },
 "nbformat": 4,
 "nbformat_minor": 2
}
