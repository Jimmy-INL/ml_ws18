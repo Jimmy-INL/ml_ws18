{
 "cells": [
  {
   "cell_type": "markdown",
   "metadata": {
    "slideshow": {
     "slide_type": "slide"
    }
   },
   "source": [
    "# Machine Learning (Summer 2018)"
   ]
  },
  {
   "cell_type": "markdown",
   "metadata": {},
   "source": [
    "## Practice Session 10"
   ]
  },
  {
   "cell_type": "markdown",
   "metadata": {},
   "source": [
    "June, 19th 2018"
   ]
  },
  {
   "cell_type": "markdown",
   "metadata": {},
   "source": [
    "Ulf Krumnack\n",
    "\n",
    "Institute of Cognitive Science\n",
    "University of Osnabrück"
   ]
  },
  {
   "cell_type": "markdown",
   "metadata": {
    "slideshow": {
     "slide_type": "subslide"
    }
   },
   "source": [
    "## Plan for the next sessions"
   ]
  },
  {
   "cell_type": "markdown",
   "metadata": {},
   "source": [
    "* New exercises: Sheet 11\n",
    "* Classifiers"
   ]
  },
  {
   "cell_type": "markdown",
   "metadata": {
    "slideshow": {
     "slide_type": "subslide"
    }
   },
   "source": [
    "# Classifiers"
   ]
  },
  {
   "cell_type": "markdown",
   "metadata": {},
   "source": [
    "* datasets\n",
    "* k nearest neighbor\n",
    "* lines\n",
    "* linear classifiers"
   ]
  },
  {
   "cell_type": "markdown",
   "metadata": {
    "slideshow": {
     "slide_type": "slide"
    }
   },
   "source": [
    "## Generating a dataset\n",
    "\n",
    "A dataset for classification consists of two parts:\n",
    "* a list of feature vectors, usually denoted by $x$\n",
    "* a list of corresponding class labels, usually denoted as $c$, $y$, or $t$\n",
    "\n",
    "Exercise:\n",
    "1. Generate a 2-dimensional dataset consisting of two classes (positive and negative examples),\n",
    "   both parts being normally distributed (use `np.random.multivariate_normal`). The result should be of shape (N,3), with the last column `data[:,-1]` providing the labels (either 0 or 1).\n",
    "2. Plot your dataset, showing both classes in different colors."
   ]
  },
  {
   "cell_type": "code",
   "execution_count": null,
   "metadata": {
    "deletable": false,
    "nbgrader": {
     "checksum": "6fb24c2811d024881577e600c8ee8345",
     "grade": true,
     "grade_id": "cell-d76e2589142928e0",
     "locked": false,
     "points": 0,
     "schema_version": 1,
     "solution": true
    },
    "slideshow": {
     "slide_type": "subslide"
    }
   },
   "outputs": [],
   "source": [
    "# YOUR CODE HERE"
   ]
  },
  {
   "cell_type": "code",
   "execution_count": null,
   "metadata": {
    "deletable": false,
    "nbgrader": {
     "checksum": "7c89596dc142b303f49ef2c946c3cff2",
     "grade": true,
     "grade_id": "cell-4f0b846cfac3e5ff",
     "locked": false,
     "points": 0,
     "schema_version": 1,
     "solution": true
    },
    "slideshow": {
     "slide_type": "subslide"
    }
   },
   "outputs": [],
   "source": [
    "import numpy as np\n",
    "import matplotlib.pyplot as plt\n",
    "\n",
    "n0 = 50\n",
    "mean0 = [0, 0]\n",
    "cov0 = [[1, 0], [0, 12]]\n",
    "\n",
    "n1 = 40\n",
    "mean1 = [6, 10]\n",
    "cov1 = [[1, 0], [0, 12]]\n",
    "\n",
    "# Create dataset of shape (n1+n2,3)\n",
    "#data=\n",
    "# YOUR CODE HERE\n",
    "\n",
    "assert data.shape == (n0+n1,3), \"data has invalid shape {}\".format(data.shape)\n",
    "\n",
    "plt.figure()\n",
    "plt.axis('equal')\n",
    "# YOUR CODE HERE\n",
    "plt.show()"
   ]
  },
  {
   "cell_type": "markdown",
   "metadata": {
    "slideshow": {
     "slide_type": "slide"
    }
   },
   "source": [
    "## Nearest Neighbor Classification"
   ]
  },
  {
   "cell_type": "markdown",
   "metadata": {
    "slideshow": {
     "slide_type": "fragment"
    }
   },
   "source": [
    "*Exercises:*\n",
    "1. Implement a Euclidean distance function (`euclidean_distance`).\n",
    "1. implement a function `nearest_neighbor`, that finds the nearest neighbor for a given point in your dataset\n",
    "1. plot your result (indicating the point and the nearest neighbor). Try different coordinates for `p`"
   ]
  },
  {
   "cell_type": "code",
   "execution_count": null,
   "metadata": {
    "deletable": false,
    "nbgrader": {
     "checksum": "4535d0b504d91593d8c40aa715de26e7",
     "grade": true,
     "grade_id": "cell-6b376ef5abf01f85",
     "locked": false,
     "points": 0,
     "schema_version": 1,
     "solution": true
    },
    "slideshow": {
     "slide_type": "subslide"
    }
   },
   "outputs": [],
   "source": [
    "import numpy as np\n",
    "\n",
    "# YOUR CODE HERE\n",
    "\n",
    "p = np.asarray([1,3])\n",
    "q = np.asarray([4,7])\n",
    "\n",
    "# Check your results for the points (1,3) and (4,7) - distance should be 5.\n",
    "assert np.round(euclidean_distance(p,q), 3) == 5., \"distance between {} and {} is wrong: {}\".format(p,q,euclidean_distance(p,q))"
   ]
  },
  {
   "cell_type": "code",
   "execution_count": null,
   "metadata": {
    "deletable": false,
    "nbgrader": {
     "checksum": "3c55547d7582df1d9abfba76e560ee63",
     "grade": true,
     "grade_id": "cell-9c034e89a9528500",
     "locked": false,
     "points": 0,
     "schema_version": 1,
     "solution": true
    },
    "slideshow": {
     "slide_type": "subslide"
    }
   },
   "outputs": [],
   "source": [
    "def nearest_neighbor(data, predict):\n",
    "    # data is of shape (N,3):\n",
    "    #   data[i,0:2] are features, data[i,2] is the value\n",
    "    # predict is of shape (2,)\n",
    "    #   the features of a new data point\n",
    "    # YOUR CODE HERE"
   ]
  },
  {
   "cell_type": "code",
   "execution_count": null,
   "metadata": {
    "deletable": false,
    "nbgrader": {
     "checksum": "21a8dfadf6495d3723eebb754a1211a4",
     "grade": true,
     "grade_id": "cell-aff11748828ba06d",
     "locked": false,
     "points": 0,
     "schema_version": 1,
     "solution": true
    },
    "slideshow": {
     "slide_type": "subslide"
    }
   },
   "outputs": [],
   "source": [
    "p = np.asarray((3,5))\n",
    "nn = nearest_neighbor(data,p)\n",
    "\n",
    "plt.figure()\n",
    "plt.title(\"new point {} -> nearest neighbor {}\".format(p,nn))\n",
    "plt.axis('equal')\n",
    "# YOUR CODE HERE"
   ]
  },
  {
   "cell_type": "markdown",
   "metadata": {
    "slideshow": {
     "slide_type": "subslide"
    }
   },
   "source": [
    "Exercise: Now implement $k$-nearest neighbor.\n",
    "\n",
    "Hint: you may use a list to collect neighbors and `sorted()` to find the nearest ones.\n",
    "\n",
    "Question:\n",
    "* does increasing $k$ mean that the accuracy goes up?"
   ]
  },
  {
   "cell_type": "code",
   "execution_count": null,
   "metadata": {
    "deletable": false,
    "nbgrader": {
     "checksum": "baffe2e55445e64242e05c6ba4aafc11",
     "grade": true,
     "grade_id": "cell-e05bc15ffe4f74d9",
     "locked": false,
     "points": 0,
     "schema_version": 1,
     "solution": true
    },
    "slideshow": {
     "slide_type": "subslide"
    }
   },
   "outputs": [],
   "source": [
    "def k_nearest_neighbors(data, predict, k=3):\n",
    "    \"\"\"\n",
    "    data of shape (N,3)\n",
    "    predict of shape (2,)\n",
    "    k - the number of neighbors\n",
    "    \n",
    "    \"\"\"\n",
    "    # YOUR CODE HERE\n",
    "\n",
    "p = np.asarray((3,5))\n",
    "neighbors = k_nearest_neighbors(data,p,k=5)\n",
    "\n",
    "plt.figure()\n",
    "plt.title(\"new point {} -> nearest neighbors\".format(p,nn))\n",
    "plt.axis('equal')\n",
    "plt.scatter(data[:,0],data[:,1], c=data[:,2])\n",
    "plt.plot(*p, '*', c='red')\n",
    "# YOUR CODE HERE\n",
    "plt.show()"
   ]
  },
  {
   "cell_type": "markdown",
   "metadata": {
    "slideshow": {
     "slide_type": "slide"
    }
   },
   "source": [
    "<a id=\"lines\"></a>\n",
    "## Lines\n",
    "\n",
    "Lines (and hyperplanes) play a crucial role in many machine learning approaches (e.g. as linear separatrices). "
   ]
  },
  {
   "cell_type": "markdown",
   "metadata": {
    "slideshow": {
     "slide_type": "fragment"
    }
   },
   "source": [
    "In school, lines are usually represented as functions\n",
    "\n",
    "$$y = m\\cdot x + y_0$$\n",
    "\n",
    "Exercise:\n",
    "1. Plot a line using matplotlib (on the interval [-10,10])\n",
    "1. What do the two parameters $m$ and $y_0$ specify?\n",
    "1. Where does the line intersect with the $x$- and the $y$-axis?\n",
    "1. How to check if a point $\\vec{p}=(x,y)$ is on/above/below the line?"
   ]
  },
  {
   "cell_type": "code",
   "execution_count": null,
   "metadata": {
    "deletable": false,
    "nbgrader": {
     "checksum": "0320fbc67373072e52fce83c2fca02df",
     "grade": true,
     "grade_id": "cell-5ddeb1c62e1ef5a5",
     "locked": false,
     "points": 0,
     "schema_version": 1,
     "solution": true
    },
    "slideshow": {
     "slide_type": "subslide"
    }
   },
   "outputs": [],
   "source": [
    "%matplotlib notebook\n",
    "import numpy as np\n",
    "import matplotlib.pyplot as plt\n",
    "\n",
    "m = .5\n",
    "y0 = 3\n",
    "\n",
    "# YOUR CODE HERE"
   ]
  },
  {
   "cell_type": "markdown",
   "metadata": {
    "deletable": false,
    "nbgrader": {
     "checksum": "b927ded5dc38c039830239f1b711649d",
     "grade": true,
     "grade_id": "cell-fc2c8d84e639e3fc",
     "locked": false,
     "points": 0,
     "schema_version": 1,
     "solution": true
    },
    "slideshow": {
     "slide_type": "subslide"
    }
   },
   "source": [
    "YOUR ANSWER HERE"
   ]
  },
  {
   "cell_type": "markdown",
   "metadata": {
    "slideshow": {
     "slide_type": "slide"
    }
   },
   "source": [
    "#### A more general description of a line\n",
    "\n",
    "However, this representation has some disadvantages:\n",
    "* it can not express vertical lines\n",
    "* it is not obvious how to generalize to more dimensions\n",
    "\n",
    "Hence one uses a more general form:\n",
    "\n",
    "$$ a\\cdot x + b\\cdot y + c = 0 $$\n",
    "\n",
    "Exercises:\n",
    "1. Draw the line for the given values of $a,b,c$. Also try different values.\n",
    "1. What parameters do you have to choose for horizontal and vertical lines? Can you draw them with your code?\n",
    "1. Use the values $m$ and $y_0$ from the previous example to initialize $a,b,c$ to get the same line as in that example.\n",
    "1. There are many triples $(a,b,c)$ that describe the same line. Can you find two of them? Can you give a criterion to check if two triples are equivalent?"
   ]
  },
  {
   "cell_type": "code",
   "execution_count": null,
   "metadata": {
    "deletable": false,
    "nbgrader": {
     "checksum": "d1cb0294c769d1759142b8a37b37e75a",
     "grade": true,
     "grade_id": "cell-c22053f752ec56d2",
     "locked": false,
     "points": 0,
     "schema_version": 1,
     "solution": true
    },
    "slideshow": {
     "slide_type": "subslide"
    }
   },
   "outputs": [],
   "source": [
    "%matplotlib notebook\n",
    "import numpy as np\n",
    "import matplotlib.pyplot as plt\n",
    "\n",
    "a = 1\n",
    "b = 2\n",
    "c = 3\n",
    "\n",
    "# YOUR CODE HERE\n",
    "\n",
    "plt.figure()\n",
    "plt.ylim([-10,10])\n",
    "plt.plot(x, y)\n",
    "plt.show()"
   ]
  },
  {
   "cell_type": "markdown",
   "metadata": {
    "slideshow": {
     "slide_type": "slide"
    }
   },
   "source": [
    "#### A line specified by a normal vector\n",
    "\n",
    "Using vector notation, $\\vec{n} = (a,b)$ and $\\vec{p} = (x,y)$ one can state the equation\n",
    "\n",
    "$$ a\\cdot x + b\\cdot y + c = 0 $$\n",
    "\n",
    "more compact as\n",
    "\n",
    "$$\\langle \\vec{n},\\vec{p}\\rangle + c = 0$$\n",
    "\n",
    "where $\\langle \\_,\\_ \\rangle$ denotes the inner product (dot product).\n",
    "\n",
    "Exercises:\n",
    "1. Show that $\\vec{n}$ is a normal vector, i.e., that it is orthogonal to the line.\n",
    "1. Can you locate the point $\\vec{p}_0$ on the line that is closest to the origin?\n",
    "1. Plot the line and the point $\\vec{p}_0$ on the line.\n",
    "1. What interpretation can be given to the value $c$?\n"
   ]
  },
  {
   "cell_type": "markdown",
   "metadata": {
    "deletable": false,
    "nbgrader": {
     "checksum": "aef9855f449699b879c4a45e4df0daa5",
     "grade": true,
     "grade_id": "cell-e2094988a36f227f",
     "locked": false,
     "points": 0,
     "schema_version": 1,
     "solution": true
    },
    "slideshow": {
     "slide_type": "subslide"
    }
   },
   "source": [
    "YOUR ANSWER HERE"
   ]
  },
  {
   "cell_type": "markdown",
   "metadata": {
    "deletable": false,
    "nbgrader": {
     "checksum": "9341ad9d8678caf4a73c53e2f1295809",
     "grade": true,
     "grade_id": "cell-5c52428f8457623e",
     "locked": false,
     "points": 0,
     "schema_version": 1,
     "solution": true
    },
    "slideshow": {
     "slide_type": "subslide"
    }
   },
   "source": [
    "YOUR ANSWER HERE"
   ]
  },
  {
   "cell_type": "code",
   "execution_count": null,
   "metadata": {
    "deletable": false,
    "nbgrader": {
     "checksum": "70550e3cec1f84f65c815784c8e290c9",
     "grade": true,
     "grade_id": "cell-710139a5e402ab5c",
     "locked": false,
     "points": 0,
     "schema_version": 1,
     "solution": true
    },
    "slideshow": {
     "slide_type": "subslide"
    }
   },
   "outputs": [],
   "source": [
    "# ad 3.\n",
    "%matplotlib notebook\n",
    "import numpy as np\n",
    "import matplotlib.pyplot as plt\n",
    "\n",
    "n = np.asarray([.3,.5])\n",
    "c = 3\n",
    "\n",
    "# Compute point p0 = ...\n",
    "# YOUR CODE HERE\n",
    "\n",
    "def my_line2(n,c):\n",
    "    if abs(n[1])> abs(n[0]):\n",
    "        x = np.linspace(-10,10,2)\n",
    "        y = -(n[0]*x + c)/n[1]\n",
    "    else:\n",
    "        y = np.linspace(-10,10,2)\n",
    "        x = -(n[1]*y + c)/n[0]\n",
    "    return x,y\n",
    "\n",
    "x,y = my_line2(n,c)\n",
    "\n",
    "plt.figure()\n",
    "plt.axes().set_aspect('equal')\n",
    "plt.ylim([-10,10])\n",
    "plt.plot(x, y)\n",
    "plt.plot(*p0,'*')\n",
    "plt.text(*p0,'({:4.2f},{:4.2f})'.format(p0[0],p0[1]))\n",
    "plt.plot(0,0, '*k') # origin\n",
    "plt.annotate(s='', xy=p0, xytext=(0,0), arrowprops=dict(arrowstyle='<->'))\n",
    "plt.text(*(.5*p0),'d={:4.2f}'.format(c/np.sqrt(n.dot(n))))\n",
    "plt.show()"
   ]
  },
  {
   "cell_type": "markdown",
   "metadata": {
    "deletable": false,
    "nbgrader": {
     "checksum": "6f576fabea27721046d909dfbac7f740",
     "grade": true,
     "grade_id": "cell-1c99da0ff7228101",
     "locked": false,
     "points": 0,
     "schema_version": 1,
     "solution": true
    },
    "slideshow": {
     "slide_type": "subslide"
    }
   },
   "source": [
    "YOUR ANSWER HERE"
   ]
  },
  {
   "cell_type": "markdown",
   "metadata": {
    "slideshow": {
     "slide_type": "slide"
    }
   },
   "source": [
    "#### A line specified by normal vector and point\n",
    "\n",
    "Instead of providing the value $c$ one could specify a line by the normal $\\vec{n}$ and one point $\\vec{p}$ on that line.\n",
    "\n",
    "Exercises:\n",
    "1. How can you recover the value $c$ from $\\vec{n}$ and $\\vec{p}$?\n",
    "1. Plot the point $\\vec{p}$, the normal $\\vec{n}$, the line, the origin, and the point $\\vec{p}_0$ into one graph."
   ]
  },
  {
   "cell_type": "markdown",
   "metadata": {
    "deletable": false,
    "nbgrader": {
     "checksum": "cd96d4770eda1c23cdae4692607a67a2",
     "grade": true,
     "grade_id": "cell-7a610e316bc48614",
     "locked": false,
     "points": 0,
     "schema_version": 1,
     "solution": true
    },
    "slideshow": {
     "slide_type": "subslide"
    }
   },
   "source": [
    "YOUR ANSWER HERE"
   ]
  },
  {
   "cell_type": "code",
   "execution_count": null,
   "metadata": {
    "deletable": false,
    "nbgrader": {
     "checksum": "0bfcc78675834fb542861d48b31b30af",
     "grade": true,
     "grade_id": "cell-bfc3873f27470f10",
     "locked": false,
     "points": 0,
     "schema_version": 1,
     "solution": true
    },
    "slideshow": {
     "slide_type": "subslide"
    }
   },
   "outputs": [],
   "source": [
    "%matplotlib notebook\n",
    "import numpy as np\n",
    "import matplotlib.pyplot as plt\n",
    "\n",
    "p = np.array([1, 3])\n",
    "n = np.array([1, -3])\n",
    "\n",
    "# YOUR CODE HERE\n",
    "\n",
    "x,y = my_line2(n,c)\n",
    "\n",
    "plt.figure()\n",
    "plt.axes().set_aspect('equal')\n",
    "plt.ylim([-10,10])\n",
    "plt.plot(*o,'*k')\n",
    "plt.plot(*p,'or')\n",
    "plt.arrow(*p, *n, fc='m', ec='m', head_width=.3, head_length=.4)\n",
    "plt.plot(x, y)\n",
    "plt.plot(*zip(o,p0),'g')\n",
    "plt.show()"
   ]
  },
  {
   "cell_type": "markdown",
   "metadata": {
    "slideshow": {
     "slide_type": "slide"
    }
   },
   "source": [
    "### The higher dimensional case\n",
    "\n",
    "* A $D$-dimensional space is separated into two parts by a hyperplane\n",
    "  (i.e. a $(D-1)$-dimensional subspace)\n",
    "* A hyperplane can be described by a point and a normal vector.\n",
    "* In a $2$-dimensional space, a hyperplane is just a $1$-dimensional subspace (i.e. a line).\n",
    "* In a $3$-dimensional space, a hpyerplane is just a $2$-dimensional subspace (i.e. a plane)."
   ]
  },
  {
   "cell_type": "code",
   "execution_count": null,
   "metadata": {
    "slideshow": {
     "slide_type": "subslide"
    }
   },
   "outputs": [],
   "source": [
    "import numpy as np\n",
    "import matplotlib.pyplot as plt\n",
    "from mpl_toolkits.mplot3d import Axes3D\n",
    "\n",
    "point  = np.array([1, 2, 3])\n",
    "normal = np.array([1, 1, 2])\n",
    "\n",
    "# a plane is a*x+b*y+c*z+d=0\n",
    "# [a,b,c] is the normal. Thus, we have to calculate\n",
    "# d and we're set\n",
    "d = -point.dot(normal)\n",
    "\n",
    "# create x,y\n",
    "xx, yy = np.meshgrid(range(10), range(10))\n",
    "\n",
    "# calculate corresponding z\n",
    "z = (-normal[0] * xx - normal[1] * yy - d) * 1. /normal[2]\n",
    "\n",
    "# plot the surface\n",
    "plt3d = plt.figure().gca(projection='3d')\n",
    "plt3d.plot_surface(xx, yy, z)\n",
    "plt.show()"
   ]
  },
  {
   "cell_type": "markdown",
   "metadata": {
    "slideshow": {
     "slide_type": "slide"
    }
   },
   "source": [
    "## Euclidean classifier"
   ]
  },
  {
   "cell_type": "markdown",
   "metadata": {
    "slideshow": {
     "slide_type": "subslide"
    }
   },
   "source": [
    "*Exercise*:\n",
    "1. Implement the Euclidean classifier\n",
    "1. Apply it to your dataset\n",
    "1. Visualize the result\n",
    "1. Classify some datapoint and add it to your plot "
   ]
  },
  {
   "cell_type": "code",
   "execution_count": null,
   "metadata": {
    "deletable": false,
    "nbgrader": {
     "checksum": "cd681e83c68ba3b6f9bb75c7b11ceb74",
     "grade": true,
     "grade_id": "cell-659b348d1dd549bd",
     "locked": false,
     "points": 0,
     "schema_version": 1,
     "solution": true
    },
    "slideshow": {
     "slide_type": "subslide"
    }
   },
   "outputs": [],
   "source": [
    "def euclidean(data):\n",
    "    # YOUR CODE HERE\n",
    "    return w,p"
   ]
  },
  {
   "cell_type": "code",
   "execution_count": null,
   "metadata": {
    "deletable": false,
    "nbgrader": {
     "checksum": "1c35fb54a07c617e8ec2f9d2d7fdba49",
     "grade": true,
     "grade_id": "cell-e45faaea3791a0db",
     "locked": false,
     "points": 0,
     "schema_version": 1,
     "solution": true
    },
    "slideshow": {
     "slide_type": "fragment"
    }
   },
   "outputs": [],
   "source": [
    "%matplotlib notebook\n",
    "import numpy as np\n",
    "import matplotlib.pyplot as plt\n",
    "\n",
    "n, p = euclidean(data)\n",
    "\n",
    "plt.figure()\n",
    "plt.axes().set_aspect('equal')\n",
    "plt.axis('equal')\n",
    "\n",
    "# YOUR CODE HERE\n",
    "plt.show()"
   ]
  },
  {
   "cell_type": "markdown",
   "metadata": {
    "slideshow": {
     "slide_type": "slide"
    }
   },
   "source": [
    "## LDA"
   ]
  },
  {
   "cell_type": "markdown",
   "metadata": {
    "slideshow": {
     "slide_type": "subslide"
    }
   },
   "source": [
    "*Exercise*:\n",
    "1. Implement the LDA (ML-09, slide 11) Hint: you may use `np.cov`, `np.linalg.inv`, and `np.dot` (`@`)\n",
    "1. Apply it to your dataset (make sure, your dataset fullfills the conditions)\n",
    "1. Visualize the result\n",
    "1. Classify some datapoint and add it to your plot "
   ]
  },
  {
   "cell_type": "code",
   "execution_count": null,
   "metadata": {
    "deletable": false,
    "nbgrader": {
     "checksum": "fde64b44fb8c19733cce40d2c74da456",
     "grade": true,
     "grade_id": "cell-45d45357005e8f90",
     "locked": false,
     "points": 0,
     "schema_version": 1,
     "solution": true
    },
    "slideshow": {
     "slide_type": "subslide"
    }
   },
   "outputs": [],
   "source": [
    "def LDA(data):\n",
    "    # YOUR CODE HERE\n",
    "\n",
    "    return w,p"
   ]
  },
  {
   "cell_type": "code",
   "execution_count": null,
   "metadata": {
    "deletable": false,
    "nbgrader": {
     "checksum": "ed5b208fecbdfcf8dba35d92e7c6f427",
     "grade": true,
     "grade_id": "cell-e6eee8ae1163f949",
     "locked": false,
     "points": 0,
     "schema_version": 1,
     "solution": true
    },
    "slideshow": {
     "slide_type": "subslide"
    }
   },
   "outputs": [],
   "source": [
    "%matplotlib notebook\n",
    "import numpy as np\n",
    "import matplotlib.pyplot as plt\n",
    "\n",
    "n, p = LDA(data)\n",
    "\n",
    "plt.figure()\n",
    "plt.axes().set_aspect('equal')\n",
    "plt.axis('equal')\n",
    "# YOUR CODE HERE\n",
    "plt.show()"
   ]
  }
 ],
 "metadata": {
  "anaconda-cloud": {},
  "kernelspec": {
   "display_name": "Python 3",
   "language": "python",
   "name": "python3"
  },
  "language_info": {
   "codemirror_mode": {
    "name": "ipython",
    "version": 3
   },
   "file_extension": ".py",
   "mimetype": "text/x-python",
   "name": "python",
   "nbconvert_exporter": "python",
   "pygments_lexer": "ipython3",
   "version": "3.6.5"
  },
  "toc": {
   "base_numbering": 1,
   "nav_menu": {},
   "number_sections": true,
   "sideBar": true,
   "skip_h1_title": false,
   "title_cell": "Table of Contents",
   "title_sidebar": "Contents",
   "toc_cell": false,
   "toc_position": {},
   "toc_section_display": true,
   "toc_window_display": false
  },
  "varInspector": {
   "cols": {
    "lenName": 16,
    "lenType": 16,
    "lenVar": 40
   },
   "kernels_config": {
    "python": {
     "delete_cmd_postfix": "",
     "delete_cmd_prefix": "del ",
     "library": "var_list.py",
     "varRefreshCmd": "print(var_dic_list())"
    },
    "r": {
     "delete_cmd_postfix": ") ",
     "delete_cmd_prefix": "rm(",
     "library": "var_list.r",
     "varRefreshCmd": "cat(var_dic_list()) "
    }
   },
   "types_to_exclude": [
    "module",
    "function",
    "builtin_function_or_method",
    "instance",
    "_Feature"
   ],
   "window_display": false
  }
 },
 "nbformat": 4,
 "nbformat_minor": 2
}
