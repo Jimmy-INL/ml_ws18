{
 "cells": [
  {
   "cell_type": "markdown",
   "metadata": {
    "slideshow": {
     "slide_type": "slide"
    }
   },
   "source": [
    "# Machine Learning (Summer 2018)"
   ]
  },
  {
   "cell_type": "markdown",
   "metadata": {},
   "source": [
    "## Practice Session 10"
   ]
  },
  {
   "cell_type": "markdown",
   "metadata": {},
   "source": [
    "June, 19th 2018"
   ]
  },
  {
   "cell_type": "markdown",
   "metadata": {},
   "source": [
    "Ulf Krumnack\n",
    "\n",
    "Institute of Cognitive Science\n",
    "University of Osnabrück"
   ]
  },
  {
   "cell_type": "markdown",
   "metadata": {
    "slideshow": {
     "slide_type": "subslide"
    }
   },
   "source": [
    "## Plan for the next sessions"
   ]
  },
  {
   "cell_type": "markdown",
   "metadata": {},
   "source": [
    "* New exercises: Sheet 11\n",
    "* Classifiers"
   ]
  },
  {
   "cell_type": "markdown",
   "metadata": {
    "slideshow": {
     "slide_type": "subslide"
    }
   },
   "source": [
    "# Classifiers"
   ]
  },
  {
   "cell_type": "markdown",
   "metadata": {},
   "source": [
    "* datasets\n",
    "* k nearest neighbor\n",
    "* lines\n",
    "* linear classifiers"
   ]
  },
  {
   "cell_type": "markdown",
   "metadata": {
    "slideshow": {
     "slide_type": "slide"
    }
   },
   "source": [
    "## Generating a dataset\n",
    "\n",
    "A dataset for classification consists of two parts:\n",
    "* a list of feature vectors, usually denoted by $x$\n",
    "* a list of corresponding class labels, usually denoted as $c$, $y$, or $t$\n",
    "\n",
    "Exercise:\n",
    "1. Generate a 2-dimensional dataset consisting of two classes (positive and negative examples),\n",
    "   both parts being normally distributed (use `np.random.multivariate_normal`). The result should be of shape (N,3), with the last column `data[:,-1]` providing the labels (either 0 or 1).\n",
    "2. Plot your dataset, showing both classes in different colors."
   ]
  },
  {
   "cell_type": "code",
   "execution_count": null,
   "metadata": {
    "nbgrader": {
     "grade": true,
     "grade_id": "cell-d76e2589142928e0",
     "locked": false,
     "points": 0,
     "schema_version": 1,
     "solution": true
    },
    "slideshow": {
     "slide_type": "subslide"
    }
   },
   "outputs": [],
   "source": [
    "# Simple version: just points, no class labels\n",
    "\n",
    "import numpy as np\n",
    "import matplotlib.pyplot as plt\n",
    "\n",
    "n0 = 50\n",
    "mean0 = [0, 0]\n",
    "cov0 = [[1, 0], [0, 6]]\n",
    "\n",
    "n1 = 40\n",
    "mean1 = [6, 6]\n",
    "cov1 = [[1, 0], [0, 6]]\n",
    "\n",
    "x0, y0 = np.random.multivariate_normal(mean0, cov0, n0).T\n",
    "x1, y1 = np.random.multivariate_normal(mean1, cov1, n1).T\n",
    "\n",
    "plt.figure()\n",
    "plt.axis('equal')\n",
    "plt.scatter(x0, y0)\n",
    "plt.scatter(x1, y1)\n",
    "plt.show()"
   ]
  },
  {
   "cell_type": "code",
   "execution_count": null,
   "metadata": {
    "nbgrader": {
     "grade": true,
     "grade_id": "cell-4f0b846cfac3e5ff",
     "locked": false,
     "points": 0,
     "schema_version": 1,
     "solution": true
    },
    "slideshow": {
     "slide_type": "subslide"
    }
   },
   "outputs": [],
   "source": [
    "# Second version: dataset with class labels\n",
    "\n",
    "import numpy as np\n",
    "import matplotlib.pyplot as plt\n",
    "\n",
    "n0 = 50\n",
    "mean0 = [0, 0]\n",
    "cov0 = [[1, 0], [0, 12]]\n",
    "\n",
    "n1 = 40\n",
    "mean1 = [6, 10]\n",
    "cov1 = [[1, 0], [0, 12]]\n",
    "\n",
    "# Create dataset of shape (n1+n2,3)\n",
    "#data=\n",
    "### BEGIN SOLUTION\n",
    "neg = np.hstack([np.random.multivariate_normal(mean0, cov0, n0),\n",
    "                 np.zeros((n0,1))])\n",
    "pos = np.hstack([np.random.multivariate_normal(mean1, cov1, n1),\n",
    "                 np.ones((n1,1))])\n",
    "\n",
    "data = np.vstack([neg,pos])\n",
    "### END SOLUTION\n",
    "\n",
    "assert data.shape == (n0+n1,3), \"data has invalid shape {}\".format(data.shape)\n",
    "\n",
    "plt.figure()\n",
    "plt.axis('equal')\n",
    "### BEGIN SOLUTION\n",
    "plt.scatter(data[:,0],data[:,1], c=data[:,2])\n",
    "### END SOLUTION\n",
    "plt.show()"
   ]
  },
  {
   "cell_type": "markdown",
   "metadata": {
    "slideshow": {
     "slide_type": "slide"
    }
   },
   "source": [
    "## Nearest Neighbor Classification"
   ]
  },
  {
   "cell_type": "markdown",
   "metadata": {
    "slideshow": {
     "slide_type": "fragment"
    }
   },
   "source": [
    "*Exercises:*\n",
    "1. Implement a Euclidean distance function (`euclidean_distance`).\n",
    "1. implement a function `nearest_neighbor`, that finds in your datasest the nearest neighbor for a given point `p`\n",
    "1. plot your result (indicating the point and the nearest neighbor). Try different coordinates for `p`"
   ]
  },
  {
   "cell_type": "code",
   "execution_count": null,
   "metadata": {
    "nbgrader": {
     "grade": true,
     "grade_id": "cell-6b376ef5abf01f85",
     "locked": false,
     "points": 0,
     "schema_version": 1,
     "solution": true
    },
    "slideshow": {
     "slide_type": "subslide"
    }
   },
   "outputs": [],
   "source": [
    "import numpy as np\n",
    "\n",
    "### BEGIN SOLUTION\n",
    "euclidean_distance = lambda x,y : np.sqrt(((y-x)**2).sum(axis=-1))\n",
    "euclidean_distance2 = lambda x,y : np.linalg.norm(x-y,axis=-1)\n",
    "### END SOLUTION\n",
    "\n",
    "p = np.asarray([1,3])\n",
    "q = np.asarray([4,7])\n",
    "\n",
    "# Check your results for the points (1,3) and (4,7) - distance should be 5.\n",
    "assert np.round(euclidean_distance(p,q), 3) == 5., \"distance between {} and {} is wrong: {}\".format(p,q,euclidean_distance(p,q))\n",
    "assert np.all(euclidean_distance([p,q],q) == [5,0]) , \"distance can not combine arrays with scalars\"\n"
   ]
  },
  {
   "cell_type": "code",
   "execution_count": null,
   "metadata": {
    "nbgrader": {
     "grade": true,
     "grade_id": "cell-9c034e89a9528500",
     "locked": false,
     "points": 0,
     "schema_version": 1,
     "solution": true
    },
    "slideshow": {
     "slide_type": "subslide"
    }
   },
   "outputs": [],
   "source": [
    "def nearest_neighbor(data, predict):\n",
    "    # data is of shape (N,3):\n",
    "    #   data[i,0:2] are features, data[i,2] is the value\n",
    "    # predict is of shape (2,)\n",
    "    #   the features of a new data point\n",
    "    ### BEGIN SOLUTION\n",
    "    min_distance = float(\"inf\")\n",
    "    nearest = None\n",
    "    for d in data:\n",
    "        dist = euclidean_distance(d[:-1],predict)\n",
    "        if dist < min_distance:\n",
    "            nearest = d\n",
    "            min_distance = dist\n",
    "    return nearest\n",
    "    ### END SOLUTION\n",
    "    \n",
    "# The one-liner (requires an appropriate distance function!):\n",
    "def nearest_neighbor2(data, predict):\n",
    "    return data[np.argmin(euclidean_distance(data[:,:-1],predict))]\n"
   ]
  },
  {
   "cell_type": "code",
   "execution_count": null,
   "metadata": {
    "nbgrader": {
     "grade": true,
     "grade_id": "cell-aff11748828ba06d",
     "locked": false,
     "points": 0,
     "schema_version": 1,
     "solution": true
    },
    "slideshow": {
     "slide_type": "subslide"
    }
   },
   "outputs": [],
   "source": [
    "p = np.asarray((3,4))\n",
    "nn = nearest_neighbor2(data,p)\n",
    "\n",
    "plt.figure()\n",
    "plt.title(\"new point {} -> nearest neighbor {}\".format(p,nn))\n",
    "plt.axis('equal')\n",
    "### BEGIN SOLUTION\n",
    "plt.scatter(data[:,0],data[:,1], c=data[:,2])\n",
    "plt.plot(*p, '*', c='red')\n",
    "plt.plot(*nn[:-1], 'o', c='green')\n",
    "### END SOLUTION"
   ]
  },
  {
   "cell_type": "markdown",
   "metadata": {
    "slideshow": {
     "slide_type": "subslide"
    }
   },
   "source": [
    "Exercise: Now implement $k$-nearest neighbor.\n",
    "\n",
    "Hint: you may use a list to collect neighbors and `sorted()` to find the nearest ones.\n",
    "\n",
    "Question:\n",
    "* does increasing $k$ mean that the accuracy goes up?"
   ]
  },
  {
   "cell_type": "code",
   "execution_count": null,
   "metadata": {
    "nbgrader": {
     "grade": true,
     "grade_id": "cell-e05bc15ffe4f74d9",
     "locked": false,
     "points": 0,
     "schema_version": 1,
     "solution": true
    },
    "slideshow": {
     "slide_type": "subslide"
    }
   },
   "outputs": [],
   "source": [
    "def k_nearest_neighbors(data, predict, k=3):\n",
    "    \"\"\"\n",
    "    data of shape (N,3)\n",
    "    predict of shape (2,)\n",
    "    k - the number of neighbors\n",
    "    \n",
    "    \"\"\"\n",
    "    ### BEGIN SOLUTION\n",
    "    distances = []\n",
    "    for d in data:\n",
    "        dist = euclidean_distance(d[:-1], predict)\n",
    "        distances.append([dist,d])\n",
    "    return [i[1] for i in sorted(distances)[:k]]\n",
    "    ### END SOLUTION\n",
    "\n",
    "# The one-liner ;-)\n",
    "def k_nearest_neighbors2(data, predict, k=3):\n",
    "    return data[np.argsort(euclidean_distance(data[:,:-1], predict))[:k]]\n",
    "\n",
    "    \n",
    "p = np.asarray((3,5))\n",
    "k = 5\n",
    "neighbors = k_nearest_neighbors2(data,p,k)\n",
    "\n",
    "plt.figure()\n",
    "plt.title(\"new point {} -> {} nearest neighbors\".format(p,k))\n",
    "plt.axis('equal')\n",
    "plt.scatter(data[:,0],data[:,1], c=data[:,2])\n",
    "plt.plot(*p, '*', c='red')\n",
    "### BEGIN SOLUTION\n",
    "for nn in neighbors:\n",
    "    plt.plot(*nn[:-1], 'o', c='green')\n",
    "### END SOLUTION\n",
    "plt.show()"
   ]
  },
  {
   "cell_type": "markdown",
   "metadata": {
    "slideshow": {
     "slide_type": "slide"
    }
   },
   "source": [
    "<a id=\"lines\"></a>\n",
    "## Lines\n",
    "\n",
    "Lines (and hyperplanes) play a crucial role in many machine learning approaches (e.g. as linear separatrices). "
   ]
  },
  {
   "cell_type": "markdown",
   "metadata": {
    "slideshow": {
     "slide_type": "fragment"
    }
   },
   "source": [
    "In school, lines are usually represented as functions\n",
    "\n",
    "$$y = m\\cdot x + y_0$$\n",
    "\n",
    "Exercise:\n",
    "1. Plot a line using matplotlib (on the interval [-10,10])\n",
    "1. What do the two parameters $m$ and $y_0$ specify?\n",
    "1. Where does the line intersect with the $x$- and the $y$-axis?\n",
    "1. How to check if a point $\\vec{p}=(x,y)$ is on/above/below the line?"
   ]
  },
  {
   "cell_type": "code",
   "execution_count": null,
   "metadata": {
    "nbgrader": {
     "grade": true,
     "grade_id": "cell-5ddeb1c62e1ef5a5",
     "locked": false,
     "points": 0,
     "schema_version": 1,
     "solution": true
    },
    "slideshow": {
     "slide_type": "subslide"
    }
   },
   "outputs": [],
   "source": [
    "%matplotlib notebook\n",
    "import numpy as np\n",
    "import matplotlib.pyplot as plt\n",
    "\n",
    "m = .5\n",
    "y0 = 3\n",
    "\n",
    "### BEGIN SOLUTION\n",
    "x = np.linspace(-10,10,2)\n",
    "y = m * x + y0\n",
    "\n",
    "plt.figure()\n",
    "plt.ylim([-10,10])\n",
    "plt.plot(x, y)\n",
    "plt.show()\n",
    "### END SOLUTION"
   ]
  },
  {
   "cell_type": "markdown",
   "metadata": {
    "nbgrader": {
     "grade": true,
     "grade_id": "cell-fc2c8d84e639e3fc",
     "locked": false,
     "points": 0,
     "schema_version": 1,
     "solution": true
    },
    "slideshow": {
     "slide_type": "subslide"
    }
   },
   "source": [
    "ad 2. What do the two parameters $m$ and $y_0$ specify?\n",
    "\n",
    "The value $m$ is the slope of the line, i.e. the ratio $\\frac{\\Delta x}{\\Delta y}$ and $y_0$ is the vertical offset where the line intersects the $y$-axis.\n",
    "\n",
    "ad 3. Where does the line intersect with the $x$- and the $y$-axis?\n",
    "\n",
    "Solve $0 = m\\cdot x + y_0$ to get the intersection with the $x$-axis: $x=y_0/m$.\n",
    "Hence the intersection points are $(y_0/m,0)$ and $(0,y_0)$\n",
    "\n",
    "ad 4. How to check if a point $\\vec{p}=(x,y)$ is on the line?\n",
    "\n",
    "The point is on the line, iff the coordinates fulfill the equation $y = m\\cdot x + y_0$."
   ]
  },
  {
   "cell_type": "markdown",
   "metadata": {
    "slideshow": {
     "slide_type": "slide"
    }
   },
   "source": [
    "#### A more general description of a line\n",
    "\n",
    "However, this representation has some disadvantages:\n",
    "* it can not express vertical lines\n",
    "* it is not obvious how to generalize to more dimensions\n",
    "\n",
    "Hence one uses a more general form:\n",
    "\n",
    "$$ a\\cdot x + b\\cdot y + c = 0 $$\n",
    "\n",
    "Exercises:\n",
    "1. Draw the line for the given values of $a,b,c$. Also try different values.\n",
    "1. What parameters do you have to choose for horizontal and vertical lines? Can you draw them with your code?\n",
    "1. Use the values $m$ and $y_0$ from the previous example to initialize $a,b,c$ to get the same line as in that example.\n",
    "1. There are many triples $(a,b,c)$ that describe the same line. Can you find two of them? Can you give a criterion to check if two triples are equivalent?"
   ]
  },
  {
   "cell_type": "code",
   "execution_count": null,
   "metadata": {
    "nbgrader": {
     "grade": true,
     "grade_id": "cell-c22053f752ec56d2",
     "locked": false,
     "points": 0,
     "schema_version": 1,
     "solution": true
    },
    "slideshow": {
     "slide_type": "subslide"
    }
   },
   "outputs": [],
   "source": [
    "%matplotlib notebook\n",
    "import numpy as np\n",
    "import matplotlib.pyplot as plt\n",
    "\n",
    "a = 2\n",
    "b = -2\n",
    "c = 0\n",
    "\n",
    "### BEGIN SOLUTION\n",
    "def my_line(a,b,c):\n",
    "    if abs(b) > abs(a):\n",
    "        x = np.linspace(-10,10,2)\n",
    "        y = -(a*x + c)/b\n",
    "    else:\n",
    "        y = np.linspace(-10,10,2)\n",
    "        x = -(b*y + c)/a\n",
    "    return x,y\n",
    "\n",
    "x,y = my_line(a,b,c)\n",
    "### END SOLUTION\n",
    "\n",
    "plt.figure()\n",
    "plt.ylim([-10,10])\n",
    "plt.plot(x, y)\n",
    "plt.show()"
   ]
  },
  {
   "cell_type": "markdown",
   "metadata": {
    "slideshow": {
     "slide_type": "slide"
    }
   },
   "source": [
    "#### A line specified by a normal vector\n",
    "\n",
    "Using vector notation, $\\vec{n} = (a,b)$ and $\\vec{p} = (x,y)$ one can state the equation\n",
    "\n",
    "$$ a\\cdot x + b\\cdot y + c = 0 $$\n",
    "\n",
    "more compact as\n",
    "\n",
    "$$\\langle \\vec{n},\\vec{p}\\rangle + c = 0$$\n",
    "\n",
    "where $\\langle \\_,\\_ \\rangle$ denotes the inner product (dot product).\n",
    "\n",
    "Exercises:\n",
    "1. Show that $\\vec{n}$ is a normal vector, i.e., that it is orthogonal to the line.\n",
    "1. Can you locate the point $\\vec{p}_0$ on the line that is closest to the origin?\n",
    "1. Plot the line and the point $\\vec{p}_0$ on the line.\n",
    "1. What interpretation can be given to the value $c$?\n"
   ]
  },
  {
   "cell_type": "markdown",
   "metadata": {
    "nbgrader": {
     "grade": true,
     "grade_id": "cell-e2094988a36f227f",
     "locked": false,
     "points": 0,
     "schema_version": 1,
     "solution": true
    },
    "slideshow": {
     "slide_type": "subslide"
    }
   },
   "source": [
    "ad 1. Take two points $\\vec{p}_1$ and $\\vec{p}_2$ on the line. The difference $(\\vec{p}_2-\\vec{p}_1)$ will then point into the direction of the line. Compute\n",
    "\\begin{align}\n",
    "\\langle \\vec{n},(\\vec{p}_2-\\vec{p}_1)\\rangle\n",
    "&= \\langle \\vec{n},\\vec{p}_2\\rangle - \\langle \\vec{n},\\vec{p}_1\\rangle \\\\\n",
    "&= (\\langle \\vec{n},\\vec{p}_2\\rangle + c) - (\\langle \\vec{n},\\vec{p}_1\\rangle + c) \\\\\n",
    "&= 0-0 \\\\\n",
    "&= 0\n",
    "\\end{align}"
   ]
  },
  {
   "cell_type": "markdown",
   "metadata": {
    "nbgrader": {
     "grade": true,
     "grade_id": "cell-5c52428f8457623e",
     "locked": false,
     "points": 0,
     "schema_version": 1,
     "solution": true
    },
    "slideshow": {
     "slide_type": "subslide"
    }
   },
   "source": [
    "ad 2. The connection of $\\vec{p}_0$ and the origin $\\vec{0}$ is orthogonal to the line and hence\n",
    " $\\vec{p}_0 = s\\cdot\\vec{n}$ for some $s\\in\\mathbb{R}$. Compute $s$: as $\\vec{p}_0$ is on the line, we know\n",
    " \n",
    " $$0 = \\langle \\vec{n},\\vec{p}_0\\rangle + c = \\langle \\vec{n},s\\cdot\\vec{n}\\rangle +c = s\\cdot \\langle \\vec{n},\\vec{n}\\rangle +c = s\\cdot \\|\\vec{n}\\|_2^2 +c $$\n",
    "and hence\n",
    " $$\\vec{p}_0 = s\\cdot\\vec{n} = -c\\frac{\\vec{n}}{\\|\\vec{n}\\|_2^2}$$"
   ]
  },
  {
   "cell_type": "code",
   "execution_count": null,
   "metadata": {
    "nbgrader": {
     "grade": true,
     "grade_id": "cell-710139a5e402ab5c",
     "locked": false,
     "points": 0,
     "schema_version": 1,
     "solution": true
    },
    "scrolled": false,
    "slideshow": {
     "slide_type": "subslide"
    }
   },
   "outputs": [],
   "source": [
    "# ad 3.\n",
    "%matplotlib notebook\n",
    "import numpy as np\n",
    "import matplotlib.pyplot as plt\n",
    "\n",
    "n = np.asarray([.3,.5])\n",
    "c = 3\n",
    "\n",
    "# Compute point p0 = ...\n",
    "### BEGIN SOLUTION\n",
    "p0 = -c * n/n.dot(n)\n",
    "### END SOLUTION\n",
    "\n",
    "def my_line2(n,c):\n",
    "    if abs(n[1])> abs(n[0]):\n",
    "        x = np.linspace(-10,10,2)\n",
    "        y = -(n[0]*x + c)/n[1]\n",
    "    else:\n",
    "        y = np.linspace(-10,10,2)\n",
    "        x = -(n[1]*y + c)/n[0]\n",
    "    return x,y\n",
    "\n",
    "x,y = my_line2(n,c)\n",
    "\n",
    "plt.figure()\n",
    "plt.axes().set_aspect('equal')\n",
    "plt.ylim([-10,10])\n",
    "plt.plot(x, y)\n",
    "plt.plot(*p0,'*')\n",
    "plt.text(*p0,'({:4.2f},{:4.2f})'.format(p0[0],p0[1]))\n",
    "plt.plot(0,0, '*k') # origin\n",
    "plt.annotate(s='', xy=p0, xytext=(0,0), arrowprops=dict(arrowstyle='<->'))\n",
    "plt.text(*(.5*p0),'d={:4.2f}'.format(c/np.sqrt(n.dot(n))))\n",
    "plt.show()"
   ]
  },
  {
   "cell_type": "markdown",
   "metadata": {
    "nbgrader": {
     "grade": true,
     "grade_id": "cell-1c99da0ff7228101",
     "locked": false,
     "points": 0,
     "schema_version": 1,
     "solution": true
    },
    "slideshow": {
     "slide_type": "subslide"
    }
   },
   "source": [
    "ad 4. What interpretation can be given to the value $c$?\n",
    "\n",
    "From the formula\n",
    "\n",
    "$$\\vec{p}_0 = -c\\frac{\\vec{n}}{\\|\\vec{n}\\|_2^2}$$\n",
    " \n",
    "we can derive\n",
    "\n",
    "$$ d := \\|\\vec{p}_0\\|_2 = \\left\\|-c\\frac{\\vec{n}}{\\|\\vec{n}\\|_2^2}\\right\\|_2\n",
    "= |c|\\cdot \\frac{\\|\\vec{n}\\|_2}{\\|\\vec{n}\\|_2^2} = \\frac{|c|}{\\|\\vec{n}\\|_2}$$\n",
    "\n",
    "that is, we can recover the closest distance $d$ of the line from the origin by dividing $c$ by $\\|\\vec{n}\\|_2$. In the special case of a normalized $\\vec{n}$ (i.e., $\\|\\vec{n}\\| = 1$), the value $|c|$ provides this distance directly."
   ]
  },
  {
   "cell_type": "markdown",
   "metadata": {
    "slideshow": {
     "slide_type": "slide"
    }
   },
   "source": [
    "#### A line specified by normal vector and point\n",
    "\n",
    "Instead of providing the value $c$ one could specify a line by the normal $\\vec{n}$ and one point $\\vec{p}$ on that line.\n",
    "\n",
    "Exercises:\n",
    "1. How can you recover the value $c$ from $\\vec{n}$ and $\\vec{p}$?\n",
    "1. Plot the point $\\vec{p}$, the normal $\\vec{n}$, the line, the origin, and the point $\\vec{p}_0$ into one graph."
   ]
  },
  {
   "cell_type": "markdown",
   "metadata": {
    "nbgrader": {
     "grade": true,
     "grade_id": "cell-7a610e316bc48614",
     "locked": false,
     "points": 0,
     "schema_version": 1,
     "solution": true
    },
    "slideshow": {
     "slide_type": "subslide"
    }
   },
   "source": [
    "ad 1. As $\\vec{p}$ is on the line, it has to fulfill\n",
    "\n",
    "$$\\langle \\vec{n},\\vec{p}\\rangle + c = 0$$\n",
    "\n",
    "and hence\n",
    "\n",
    "$$c = - \\langle \\vec{n},\\vec{p}\\rangle$$\n"
   ]
  },
  {
   "cell_type": "code",
   "execution_count": null,
   "metadata": {
    "nbgrader": {
     "grade": true,
     "grade_id": "cell-bfc3873f27470f10",
     "locked": false,
     "points": 0,
     "schema_version": 1,
     "solution": true
    },
    "scrolled": false,
    "slideshow": {
     "slide_type": "subslide"
    }
   },
   "outputs": [],
   "source": [
    "%matplotlib notebook\n",
    "import numpy as np\n",
    "import matplotlib.pyplot as plt\n",
    "\n",
    "p = np.array([1, 3])\n",
    "n = np.array([1, -3])\n",
    "\n",
    "### BEGIN SOLUTION\n",
    "c = -n.dot(p)\n",
    "p0 = -c * n/n.dot(n)\n",
    "o = np.zeros(2) # the origin\n",
    "### END SOLUTION\n",
    "\n",
    "x,y = my_line2(n,c)\n",
    "\n",
    "plt.figure()\n",
    "plt.axes().set_aspect('equal')\n",
    "plt.ylim([-10,10])\n",
    "plt.plot(*o,'*k')\n",
    "plt.plot(*p,'or')\n",
    "plt.arrow(*p, *n, fc='m', ec='m', head_width=.3, head_length=.4)\n",
    "plt.plot(x, y)\n",
    "plt.plot(*zip(o,p0),'g')\n",
    "plt.show()"
   ]
  },
  {
   "cell_type": "markdown",
   "metadata": {
    "slideshow": {
     "slide_type": "slide"
    }
   },
   "source": [
    "### The higher dimensional case\n",
    "\n",
    "* A $D$-dimensional space is separated into two parts by a hyperplane\n",
    "  (i.e. a $(D-1)$-dimensional subspace)\n",
    "* A hyperplane can be described by a point and a normal vector.\n",
    "* In a $2$-dimensional space, a hyperplane is just a $1$-dimensional subspace (i.e. a line).\n",
    "* In a $3$-dimensional space, a hpyerplane is just a $2$-dimensional subspace (i.e. a plane)."
   ]
  },
  {
   "cell_type": "code",
   "execution_count": null,
   "metadata": {
    "slideshow": {
     "slide_type": "subslide"
    }
   },
   "outputs": [],
   "source": [
    "import numpy as np\n",
    "import matplotlib.pyplot as plt\n",
    "from mpl_toolkits.mplot3d import Axes3D\n",
    "\n",
    "point  = np.array([1, 2, 3])\n",
    "normal = np.array([1, 1, 2])\n",
    "\n",
    "# a plane is a*x+b*y+c*z+d=0\n",
    "# [a,b,c] is the normal. Thus, we have to calculate\n",
    "# d and we're set\n",
    "d = -point.dot(normal)\n",
    "\n",
    "# create x,y\n",
    "xx, yy = np.meshgrid(range(10), range(10))\n",
    "\n",
    "# calculate corresponding z\n",
    "z = (-normal[0] * xx - normal[1] * yy - d) * 1. /normal[2]\n",
    "\n",
    "# plot the surface\n",
    "plt3d = plt.figure().gca(projection='3d')\n",
    "plt3d.plot_surface(xx, yy, z)\n",
    "plt.show()"
   ]
  },
  {
   "cell_type": "markdown",
   "metadata": {
    "slideshow": {
     "slide_type": "slide"
    }
   },
   "source": [
    "## Euclidean classifier"
   ]
  },
  {
   "cell_type": "markdown",
   "metadata": {
    "slideshow": {
     "slide_type": "subslide"
    }
   },
   "source": [
    "*Exercise*:\n",
    "1. Implement the Euclidean classifier\n",
    "1. Apply it to your dataset\n",
    "1. Visualize the result\n",
    "1. Classify some datapoint and add it to your plot "
   ]
  },
  {
   "cell_type": "code",
   "execution_count": null,
   "metadata": {
    "nbgrader": {
     "grade": true,
     "grade_id": "cell-659b348d1dd549bd",
     "locked": false,
     "points": 0,
     "schema_version": 1,
     "solution": true
    },
    "slideshow": {
     "slide_type": "subslide"
    }
   },
   "outputs": [],
   "source": [
    "def euclidean(data):\n",
    "    ### BEGIN SOLUTION\n",
    "    features0 = data[data[:,2]==0][:,:-1]\n",
    "    mean0 = features0.mean(0)\n",
    "    features1 = data[data[:,2]==1][:,:-1]\n",
    "    mean1 = features1.mean(0)\n",
    "\n",
    "    w = mean1 - mean0\n",
    "    p = mean0 + 0.5 * w\n",
    "    ### END SOLUTION\n",
    "    return w,p"
   ]
  },
  {
   "cell_type": "code",
   "execution_count": null,
   "metadata": {
    "nbgrader": {
     "grade": true,
     "grade_id": "cell-e45faaea3791a0db",
     "locked": false,
     "points": 0,
     "schema_version": 1,
     "solution": true
    },
    "slideshow": {
     "slide_type": "fragment"
    }
   },
   "outputs": [],
   "source": [
    "%matplotlib notebook\n",
    "import numpy as np\n",
    "import matplotlib.pyplot as plt\n",
    "\n",
    "n, p = euclidean(data)\n",
    "\n",
    "plt.figure()\n",
    "plt.axes().set_aspect('equal')\n",
    "plt.axis('equal')\n",
    "\n",
    "### BEGIN SOLUTION\n",
    "c = -n.dot(p)\n",
    "p0 = -c * n/n.dot(n)\n",
    "o = np.zeros(2) # the origin\n",
    "x,y = my_line2(n,c)\n",
    "\n",
    "plt.plot(*o,'*k')\n",
    "plt.plot(*p,'or')\n",
    "plt.arrow(*p, *n, fc='m', ec='m', head_width=.3, head_length=.4)\n",
    "plt.scatter(data[:,0],data[:,1], c=data[:,2])\n",
    "plt.plot(x, y)\n",
    "#plt.plot(*zip(o,p0),'g')\n",
    "### END SOLUTION\n",
    "plt.show()"
   ]
  },
  {
   "cell_type": "markdown",
   "metadata": {
    "slideshow": {
     "slide_type": "slide"
    }
   },
   "source": [
    "## LDA"
   ]
  },
  {
   "cell_type": "markdown",
   "metadata": {
    "slideshow": {
     "slide_type": "subslide"
    }
   },
   "source": [
    "*Exercise*:\n",
    "1. Implement the LDA (ML-09, slide 11) Hint: you may use `np.cov`, `np.linalg.inv`, and `np.dot` (`@`)\n",
    "1. Apply it to your dataset (make sure, your dataset fullfills the conditions)\n",
    "1. Visualize the result\n",
    "1. Classify some datapoint and add it to your plot "
   ]
  },
  {
   "cell_type": "code",
   "execution_count": null,
   "metadata": {
    "nbgrader": {
     "grade": true,
     "grade_id": "cell-45d45357005e8f90",
     "locked": false,
     "points": 0,
     "schema_version": 1,
     "solution": true
    },
    "slideshow": {
     "slide_type": "subslide"
    }
   },
   "outputs": [],
   "source": [
    "def LDA(data):\n",
    "    ### BEGIN SOLUTION\n",
    "    features0 = data[data[:,2]==0][:,:-1]\n",
    "    mean0 = features0.mean(0)\n",
    "    sigma = np.cov(features0.T)\n",
    "    sigma_inv = np.linalg.inv(sigma)\n",
    "\n",
    "    features1 = data[data[:,2]==1][:,:-1]\n",
    "    mean1 = features1.mean(0)\n",
    "\n",
    "    w = np.linalg.inv(sigma) @ (mean1 - mean0)\n",
    "    p =  0.5 * (mean1+mean0)\n",
    "    ### END SOLUTION\n",
    "\n",
    "    return w,p"
   ]
  },
  {
   "cell_type": "code",
   "execution_count": null,
   "metadata": {
    "nbgrader": {
     "grade": true,
     "grade_id": "cell-e6eee8ae1163f949",
     "locked": false,
     "points": 0,
     "schema_version": 1,
     "solution": true
    },
    "slideshow": {
     "slide_type": "subslide"
    }
   },
   "outputs": [],
   "source": [
    "%matplotlib notebook\n",
    "import numpy as np\n",
    "import matplotlib.pyplot as plt\n",
    "\n",
    "n, p = LDA(data)\n",
    "\n",
    "plt.figure()\n",
    "plt.axes().set_aspect('equal')\n",
    "plt.axis('equal')\n",
    "### BEGIN SOLUTION\n",
    "\n",
    "c = -n.dot(p)\n",
    "p0 = -c * n/n.dot(n)\n",
    "o = np.zeros(2) # the origin\n",
    "\n",
    "x,y = my_line2(n,c)\n",
    "\n",
    "plt.plot(*o,'*k')\n",
    "plt.plot(*p,'or')\n",
    "plt.arrow(*p, *n, fc='m', ec='m', head_width=.3, head_length=.4)\n",
    "plt.scatter(data[:,0],data[:,1], c=data[:,2])\n",
    "plt.plot(x, y)\n",
    "#plt.plot(*zip(o,p0),'g')\n",
    "### END SOLUTION\n",
    "plt.show()"
   ]
  }
 ],
 "metadata": {
  "anaconda-cloud": {},
  "celltoolbar": "Create Assignment",
  "kernelspec": {
   "display_name": "Python 3",
   "language": "python",
   "name": "python3"
  },
  "language_info": {
   "codemirror_mode": {
    "name": "ipython",
    "version": 3
   },
   "file_extension": ".py",
   "mimetype": "text/x-python",
   "name": "python",
   "nbconvert_exporter": "python",
   "pygments_lexer": "ipython3",
   "version": "3.6.5"
  },
  "toc": {
   "base_numbering": 1,
   "nav_menu": {},
   "number_sections": true,
   "sideBar": true,
   "skip_h1_title": false,
   "title_cell": "Table of Contents",
   "title_sidebar": "Contents",
   "toc_cell": false,
   "toc_position": {},
   "toc_section_display": true,
   "toc_window_display": false
  },
  "varInspector": {
   "cols": {
    "lenName": 16,
    "lenType": 16,
    "lenVar": 40
   },
   "kernels_config": {
    "python": {
     "delete_cmd_postfix": "",
     "delete_cmd_prefix": "del ",
     "library": "var_list.py",
     "varRefreshCmd": "print(var_dic_list())"
    },
    "r": {
     "delete_cmd_postfix": ") ",
     "delete_cmd_prefix": "rm(",
     "library": "var_list.r",
     "varRefreshCmd": "cat(var_dic_list()) "
    }
   },
   "types_to_exclude": [
    "module",
    "function",
    "builtin_function_or_method",
    "instance",
    "_Feature"
   ],
   "window_display": false
  }
 },
 "nbformat": 4,
 "nbformat_minor": 2
}
