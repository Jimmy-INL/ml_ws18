{
 "cells": [
  {
   "cell_type": "markdown",
   "metadata": {
    "deletable": false,
    "editable": false,
    "nbgrader": {
     "checksum": "2b50cf0a1fb46096285fe4ee32cd0be4",
     "grade": false,
     "grade_id": "h01",
     "locked": true,
     "schema_version": 1.0,
     "solution": false
    }
   },
   "source": [
    "# Exercise Sheet 01: Concept Learning"
   ]
  },
  {
   "cell_type": "markdown",
   "metadata": {
    "deletable": false,
    "editable": false,
    "nbgrader": {
     "checksum": "19b74e923182d42dadeadfe0cdebda28",
     "grade": false,
     "grade_id": "h04",
     "locked": true,
     "schema_version": 1.0,
     "solution": false
    }
   },
   "source": [
    "## Introduction\n",
    "\n",
    "This is the first exercise sheet. The homework sheets will usually be available at the beginning of the week and are supposed to be solved in groups of three. They have to be handed in before Monday morning of the following week. The exercises are then presented to your tutor in a small feedback session. To acquire the admission for the final exam, you will have to pass $N-2$ of the weekly provided exercise sheets.\n",
    "\n",
    "Sign up for a group on Stud.IP (See `Participants` -> `Functions/Groups`). The times mentioned there are the times for the feedback session of your group. If none of them fits, send any of the tutors an e-mail so we can try to arrange something.\n",
    "\n",
    "Your group will have a group folder in Stud.IP under `Documents`. Upload your solutions there to hand them in.\n",
    "\n",
    "All exercise sheets will use [Jupyter Notebooks](http://jupyter-notebook.readthedocs.org/en/latest/notebook.html). To be able to run these on your system, you will need to install Python and a few packages. We suggest the newest version of Python 3 and installing the conda environment as explained in the practice session.\n",
    "\n",
    "￼This week's sheet should be solved and handed in before the end of **Sunday, April 15, 2018**. \n",
    "Please upload your results to your group's Stud.IP folder. In case you cannot do this first sheet (due to technical or organizational problems) please upload a description of your problem instead. Your tutor will help you to solve the problems in the first feedback session and you may hand in this sheet together with the second sheet one week later."
   ]
  },
  {
   "cell_type": "markdown",
   "metadata": {
    "deletable": false,
    "editable": false,
    "nbgrader": {
     "checksum": "f08e8a131f82148c31494a72fa394a85",
     "grade": false,
     "grade_id": "ex1",
     "locked": true,
     "schema_version": 1.0,
     "solution": false
    }
   },
   "source": [
    "## Assignment 1: Candidate Elimination (by Hand) [6 Points]\n",
    "\n",
    "Candidate Elimination is a learning algorithm that, in each step, tries to generate a description which is consistent with all previously observed examples in a training set. That description could hypothetically then be used to classify examples outside the training set.\n",
    "\n",
    "Consider the following situation:\n",
    "\n",
    "Earl and Fran have made it their mission to visit as many amusement parks as possible in the coming summer term. However, to maximize their enjoyment and not have any unnecessary arguments break out, they make a list of previous park visits and if they would go there again, to have a few criteria to decide if a park is worth their time.\n",
    "\n",
    "This is the set of attributes along with their possible values Earl and Fran came up with:\n",
    "\n",
    "| Attribute           | driving distance | ticket price      | rollercoasters | dinosaurs |\n",
    "|---------------------|------------------|-------------------|----------------|-----------|\n",
    "| **Possible Values** | short / far      | cheap / expensive | many / none    | yes / no  |\n",
    "\n",
    "This is Earl and Fran's accumulated data from previous visits. The list will allow you to come to a learning decision which properties have to be fulfilled such that the two will enjoy a visit to an amusement park.\n",
    "\n",
    "| Sample No. | driving distance | ticket price | rollercoasters | dinosaurs | go again? |\n",
    "|------------|------------------|--------------|----------------|-----------|-----------|\n",
    "| 1          | far              | cheap        | many           | no        | yes       |\n",
    "| 2          | short            | expensive    | many           | no        | yes       |\n",
    "| 3          | far              | expensive    | none           | yes       | no        |\n",
    "| 4          | short            | cheap        | none           | yes       | no        |\n",
    "| 5          | short            | cheap        | many           | yes       | yes       |"
   ]
  },
  {
   "cell_type": "markdown",
   "metadata": {
    "deletable": false,
    "editable": false,
    "nbgrader": {
     "checksum": "e5a4534226336f7e482b7a5bc6bf00f6",
     "grade": false,
     "grade_id": "ex1a",
     "locked": true,
     "schema_version": 1.0,
     "solution": false
    }
   },
   "source": [
    "**a)** Apply Candidate Elimination to the samples 1-5 below and provide the version space boundaries $S_n$ and $G_n$ after each new training sample.  "
   ]
  },
  {
   "cell_type": "markdown",
   "metadata": {
    "deletable": false,
    "nbgrader": {
     "checksum": "1d21daa6f51ede147cbeeee2bb27ff53",
     "grade": true,
     "grade_id": "ex1a_solution",
     "locked": false,
     "points": 2.0,
     "schema_version": 1.0,
     "solution": true
    },
    "solution": true
   },
   "source": [
    "$S_0$ = < 0,0,0,0>\n",
    "    $G_0$ = <?,?,?,?> \n",
    "\n",
    "$S_1$ = < far,cheap,many,no>\n",
    "    $G_1$ = <?,?,?,?>\n",
    "\n",
    "$S_2$ = <?,?,many,no>\n",
    "    $G_2$ = <?,?,?,?>\n",
    "\n",
    "$S_3$ = <?,?,many,no>\n",
    "    $G_3$ = <?,?,many,?>,<?,?,?,no>\n",
    "\n",
    "$S_4$ = <?,?,many,no>\n",
    "    $G_4$ = <?,?,many,?>,<?,?,?,no>\n",
    "\n",
    "$S_5$ = <?,?,many,?>\n",
    "    $G_5$ = <?,?,many,?>\n",
    "\n",
    "\n"
   ]
  },
  {
   "cell_type": "markdown",
   "metadata": {
    "deletable": false,
    "editable": false,
    "nbgrader": {
     "checksum": "4d05009a511453977a72666fa93f90b4",
     "grade": false,
     "grade_id": "ex1b",
     "locked": true,
     "schema_version": 1.0,
     "solution": false
    }
   },
   "source": [
    "** b) ** Provide the complete version space bounded by $S_2$ and $G_2$."
   ]
  },
  {
   "cell_type": "markdown",
   "metadata": {
    "deletable": false,
    "nbgrader": {
     "checksum": "a72eff8ab8930dd0c611df3689e7f2b3",
     "grade": true,
     "grade_id": "ex1b_solution",
     "locked": false,
     "points": 2.0,
     "schema_version": 1.0,
     "solution": true
    },
    "solution": true
   },
   "source": [
    "Version space of $S_2$ and $G_2$ = << far,cheap,many,no>, < short,cheap,many,no>, < far,expensive,man,no>, < short,expensive,many,no>>"
   ]
  },
  {
   "cell_type": "markdown",
   "metadata": {
    "deletable": false,
    "editable": false,
    "nbgrader": {
     "checksum": "97504d7a4987fa54fc4dbcfdff9c3eef",
     "grade": false,
     "grade_id": "ex1c",
     "locked": true,
     "schema_version": 1.0,
     "solution": false
    }
   },
   "source": [
    "** c) ** To what kind of amusement park should Earl and Fran go?"
   ]
  },
  {
   "cell_type": "markdown",
   "metadata": {
    "deletable": false,
    "nbgrader": {
     "checksum": "8c8116ffb08dc1a3ed3655a57894a04b",
     "grade": true,
     "grade_id": "ex1c_solution",
     "locked": false,
     "points": 2.0,
     "schema_version": 1.0,
     "solution": true
    },
    "solution": true
   },
   "source": [
    "To any amusment park with many rollercoasters"
   ]
  },
  {
   "cell_type": "markdown",
   "metadata": {
    "deletable": false,
    "editable": false,
    "nbgrader": {
     "checksum": "d0677d219d44170df55a7f917ab78f25",
     "grade": false,
     "grade_id": "ex2",
     "locked": true,
     "schema_version": 1.0,
     "solution": false
    }
   },
   "source": [
    "## Assignment 2: Candidate Elimination (in Python) [10 Points]\n",
    "\n",
    "Now let's get to real fun part: Programming our first machine learning algorithm!\n",
    "\n",
    "But first some general remarks on coding style:\n",
    "\n",
    "In general, try to write code that's consistent with [PEP8](https://www.python.org/dev/peps/pep-0008/), the offical Python Style Guide. Have a look a the [Google Style Guide](https://google.github.io/styleguide/pyguide.html) as well. It's based on PEP8 and has some nice examples. As a bonus always document your function and classes with docstrings. It is best practice to stick to some docstring convention for example [Google's](http://sphinxcontrib-napoleon.readthedocs.io/en/latest/example_google.html). This has the big advantages that it allows for automated generation of documentation. We will follow that convention in the code we provide you, so you know what kind of objects to expect and what to return.\n",
    "\n",
    "If, during the programming tasks, you run into a `NameError`, make sure that you executed all prior code cells beforehand. Later cells might rely on variables and function from prior cells. To see all currently defined variables you can make use of the `%whos` [magic function](https://github.com/lmmx/devnotes/wiki/IPython-'magic'-function-documentation#whos) anywhere in code cells. Additionally, it is sometimes handy to run all cells from the beginning by opeining the command palette with `Ctrl + p` and typing `run all cells`. Moreover, using `b` to add new cells below and `a` for adding new cells above your current cell will make your life often easier. Finally, using `l` to show line numbers is helpful for locating errors from error messages.\n",
    "\n",
    "In the following Python code we have provided the building blocks for the `CANDIDATE-ELIMINATION` algorithm and put them together in a single function. Now you have to fill those building blocks with actual code. There are places marked with \n",
    "\n",
    "```python\n",
    "# YOUR CODE HERE\n",
    "``` \n",
    "\n",
    "where you have to add some code to make the code work. Finish the code to automate the decision making for Earl and Fran!"
   ]
  },
  {
   "cell_type": "code",
   "execution_count": 61,
   "metadata": {
    "collapsed": true,
    "deletable": false,
    "nbgrader": {
     "checksum": "0229c6d379732875bc56908b36338d2b",
     "grade": true,
     "grade_id": "ex2_solution1",
     "locked": false,
     "points": 2.0,
     "schema_version": 1.0,
     "solution": true
    }
   },
   "outputs": [],
   "source": [
    "def is_consistent(h, datum):\n",
    "    \"\"\"\n",
    "    Checks if a general hypothesis is consistent with a datum.\n",
    "\n",
    "    Args:\n",
    "        h (tuple): Hypothesis.\n",
    "        datum (dict): Datum with values and target.\n",
    "\n",
    "    Returns:\n",
    "        bool: Whether the hypothesis correctly predicts the target value.\n",
    "    \"\"\"\n",
    "    # YOUR CODE HERE\n",
    "    \n",
    "    count = 0\n",
    "    \n",
    "    for x in range(len(h)):\n",
    "        if h[x] != datum['values'][x] and h[x] != '?' and datum['target'] == True:\n",
    "            # This condition checks if a positive example is not consistent with the hypothesis\n",
    "            return False\n",
    "        \n",
    "        elif (h[x] == datum['values'][x] or h[x] == '?') and datum['target'] == False:\n",
    "            # This condition checks if the attribute of a negative example is consistent with the attribute of h at this place\n",
    "            count += 1\n",
    "            \n",
    "    if count == len(h):\n",
    "        #all attributes of a negative example are consistent with h => h is not consistent with datum\n",
    "        return False\n",
    "    \n",
    "    return True\n",
    "\n",
    "assert is_consistent(('far', 'cheap', '?', 'no'), {'values': ('far', 'cheap', 'many', 'no' ), 'target': True })"
   ]
  },
  {
   "cell_type": "code",
   "execution_count": 47,
   "metadata": {
    "collapsed": true,
    "deletable": false,
    "nbgrader": {
     "checksum": "4b8e00889e1ca6e61bc0af66d4b73765",
     "grade": true,
     "grade_id": "ex2_solution2",
     "locked": false,
     "points": 2.0,
     "schema_version": 1.0,
     "solution": true
    }
   },
   "outputs": [],
   "source": [
    "def is_more_general_or_equal(h1, h2):\n",
    "    \"\"\"\n",
    "    Checks whether hypothesis h1 is more general than hypothesis h2 or equally general.\n",
    "    \n",
    "    Args:\n",
    "        h1 (tuple): Hypothesis 1.\n",
    "        h1 (tuple): Hypothesis 2.\n",
    "    \n",
    "    Returns:\n",
    "        bool: True if the predicate is satisfied.\n",
    "    \"\"\"\n",
    "    # YOUR CODE HERE\n",
    "    for x in range(len(h1)):\n",
    "        if h1[x] != h2[x] and h1[x] != '?':\n",
    "            return False\n",
    "        \n",
    "    return True\n",
    "    \n",
    "assert is_more_general_or_equal(('?', '?', '?', '?'), ('far', 'cheap', 'many', 'no'))"
   ]
  },
  {
   "cell_type": "code",
   "execution_count": 48,
   "metadata": {
    "collapsed": true,
    "deletable": false,
    "nbgrader": {
     "checksum": "d6d55abad89f8e9d2e72489a525b80be",
     "grade": true,
     "grade_id": "ex2_solution3",
     "locked": false,
     "points": 2.0,
     "schema_version": 1.0,
     "solution": true
    }
   },
   "outputs": [],
   "source": [
    "def is_more_specific_or_equal(h1, h2):\n",
    "    \"\"\"\n",
    "    Checks whether hypothesis h1 is more specific than hypothesis h2 or equally specific.\n",
    "    \n",
    "    Args:\n",
    "        h1 (tuple): Hypothesis 1.\n",
    "        h1 (tuple): Hypothesis 2.\n",
    "    \n",
    "    Returns:\n",
    "        bool: True if the predicate is satisfied.\n",
    "    \"\"\"\n",
    "    # YOUR CODE HERE\n",
    "    for x in range(len(h1)):\n",
    "        \n",
    "        if h1[x]!=h2[x] and (h2[x]!='?'or h1[x]=='?'):\n",
    "            # tests weather h1, h2 are different specific or h1 is more general\n",
    "            return False\n",
    "        \n",
    "    return True\n",
    "        \n",
    "    \n",
    "assert is_more_specific_or_equal(('?', '?', 'many', 'no'), ('?', '?', 'many', '?'))"
   ]
  },
  {
   "cell_type": "code",
   "execution_count": 77,
   "metadata": {
    "collapsed": true,
    "deletable": false,
    "nbgrader": {
     "checksum": "3e2ad6068aeecde99a45a7a94847dcdc",
     "grade": true,
     "grade_id": "ex2_solution4",
     "locked": false,
     "points": 2.0,
     "schema_version": 1.0,
     "solution": true
    }
   },
   "outputs": [],
   "source": [
    "def generalize_minimally(h, datum):\n",
    "    \"\"\"Generalize hypothesis h so it becomes consitent with the datum.\n",
    "    \n",
    "    Args:\n",
    "        h (tuple): The hypothesis to be generalized.\n",
    "        datum (tuple): Attribute values of a datum. The datum is assumed to have a positive target value.\n",
    "    \n",
    "    Returns:\n",
    "        tuple: The generalized hypothesis.\n",
    "    \"\"\"\n",
    "    # YOUR CODE HERE\n",
    "    \n",
    "    if h == ('0', '0', '0', '0'):\n",
    "        #checks if we are at the intial part of s\n",
    "        h = datum\n",
    "        \n",
    "    for x in range(len(h)):\n",
    "        \n",
    "        if h[x] != datum[x] and h[x] != '?':\n",
    "            #checks weather if h is not more gneral or equal gneral to datum\n",
    "            h = h[:x] + ('?',) + h[x+1:]\n",
    "            #over writes h to be more general or equally general if necessary\n",
    "            \n",
    "    return h\n",
    "    \n",
    "assert generalize_minimally(('?', '?', 'many', 'no'), ('short', 'cheap', 'many', 'yes')) == ('?', '?', 'many', '?')"
   ]
  },
  {
   "cell_type": "code",
   "execution_count": 71,
   "metadata": {
    "collapsed": true,
    "deletable": false,
    "nbgrader": {
     "checksum": "1f8e53fd45748b04ca06824fa4d44184",
     "grade": true,
     "grade_id": "ex2_solution5",
     "locked": false,
     "points": 2.0,
     "schema_version": 1.0,
     "solution": true
    }
   },
   "outputs": [],
   "source": [
    "def specialize_minimally(h, datum, attr_values):\n",
    "    \"\"\"\n",
    "    Generate all consistent minimal specialization of hypothesis h.\n",
    "\n",
    "    Args:\n",
    "        h (tuple): The hypothesis to be specialized.\n",
    "        datum (tuple): Attribute values of a datum. The datum is assumed to have a negative target value.\n",
    "        attr_values (tuple of tuples): All possible attribute values for each attribute.\n",
    "\n",
    "    Returns:\n",
    "        tuple of tuples: Tuple of the specialized hypotheses.\n",
    "    \"\"\"\n",
    "    # YOUR CODE HERE\n",
    "    all_min_spec = (); # all minimal specalizations\n",
    "    \n",
    "    if is_consistent(h ,{'values': datum, 'target': False} )== False:\n",
    "        # if the negative example is consistent with h we have to add a minimal specalication to attr_vlaue\n",
    "        \n",
    "        for x in range(len(h)):\n",
    "            if h[x] == '?':\n",
    "                # for each ? we have to create all minimal specalizations\n",
    "                \n",
    "                if datum[x] == attr_values[x][0]:\n",
    "                    # if the datum has one of the values (e.g short) we have to add as a minimal specalization\n",
    "                    # for ? the other value (e.g.far)\n",
    "                    min_spec = h[:x] + (attr_values[x][1],) + h[ x +1:]\n",
    "                    \n",
    "                else:\n",
    "                    min_spec = h[:x] + (attr_values[x][0],) + h[ x +1:]\n",
    "                all_min_spec = all_min_spec + (min_spec,)\n",
    "                \n",
    "    return all_min_spec\n",
    "\n",
    "attr_values = (('short', 'far'), ('cheap', 'expensive'), ('many', 'none'), ('yes', 'no'))\n",
    "assert specialize_minimally(('?', '?', 'many', 'no'), ('short', 'cheap', 'many', 'no'), attr_values) == \\\n",
    "    (('far', '?', 'many', 'no'), ('?', 'expensive', 'many', 'no'))"
   ]
  },
  {
   "cell_type": "markdown",
   "metadata": {
    "deletable": false,
    "editable": false,
    "nbgrader": {
     "checksum": "57a4bc1f9bb45c11786e4ceb706688e4",
     "grade": false,
     "grade_id": "ex2a",
     "locked": true,
     "schema_version": 1.0,
     "solution": false
    }
   },
   "source": [
    "Now check that the algorithm works in the intended way by excecuting the cells below."
   ]
  },
  {
   "cell_type": "code",
   "execution_count": 72,
   "metadata": {
    "collapsed": true
   },
   "outputs": [],
   "source": [
    "def eliminate_candidates(data, attr_values):\n",
    "    \"\"\"\n",
    "    Candidate elimination algorithm printing its progress at each step.\n",
    "    \n",
    "    Args:\n",
    "        data (list of dicts): The dataset.\n",
    "        attr_values (tuple of tuples): All possible attribute values for each attribute in the data.\n",
    "        \n",
    "    Returns:\n",
    "        tuple: The general and the specific boundary of the version space.\n",
    "    \"\"\"\n",
    "    # Initialize general and specific boundary.\n",
    "    \n",
    "    # Maximally general hypothesis.\n",
    "    general_boundary = [('?', '?', '?', '?')]\n",
    "    # Maximally specific hypothesis.\n",
    "    specific_boundary = [('0', '0', '0', '0')]\n",
    "    \n",
    "    # Fit the version space to the data.\n",
    "    for datum in data:\n",
    "        if datum['target']:\n",
    "            # If the sample is classified as positive...\n",
    "            \n",
    "            # Remove all inconsistent hypotheses from G.\n",
    "            general_boundary = [g for g in general_boundary if is_consistent(g, datum)]\n",
    "            \n",
    "            for s in specific_boundary: # Copy set to allow changing it while iterating.\n",
    "                # Remove all inconsistent hypothesis from S.\n",
    "                if not is_consistent(s, datum):\n",
    "                    specific_boundary.remove(s)\n",
    "\n",
    "                    # Add to S all minimal generalizations s. In this case only one.\n",
    "                    s_generalized = generalize_minimally(s, datum['values'])\n",
    "                    # Add the new hypothesis to the specific boundary, if it is not more general \n",
    "                    # than the general boundary. We do not need to check for consistency again\n",
    "                    # as the hypothesis was constructed in such a way that it must be consisten.\n",
    "                    if any([is_more_general_or_equal(g, s_generalized) for g in general_boundary]):\n",
    "                        specific_boundary.append(s_generalized)\n",
    "\n",
    "            # Remove from S any hypothesis that is more general than another hypothesis in S.\n",
    "            for s in specific_boundary:\n",
    "                if any([is_more_general_or_equal(s, s2) and not s == s2 for s2  in specific_boundary]):\n",
    "                    specific_boundary.remove(s)\n",
    "\n",
    "        else:\n",
    "            # If the sample is classified as negative...\n",
    "            \n",
    "            # Remove all inconsistent hypotheses from S.\n",
    "            specific_boundary = [s for s in specific_boundary if is_consistent(s, datum)]\n",
    "            for g in general_boundary:\n",
    "                # Remove all inconsistent hypotheses from G.\n",
    "                if not is_consistent(g, datum):\n",
    "                    general_boundary.remove(g)\n",
    "\n",
    "                    # Add to G all minimal specializations of g.\n",
    "                    for specialized_g in specialize_minimally(g, datum['values'], attr_values):\n",
    "                        # Add the new specialized hypothesis to the general boundary, if it is not more \n",
    "                        # specific than the specific boundary.\n",
    "                        # We do not need to check for consistency again\n",
    "                        # as the hypothesis was constructed in such a way that it must be consistent.\n",
    "                        if (any([is_more_specific_or_equal(s, specialized_g) for s in specific_boundary])):\n",
    "                                \n",
    "                                general_boundary.append(specialized_g)\n",
    "                \n",
    "                # Remove from G any hypothesis that is less general than another hypothesis in G.\n",
    "                for g in general_boundary:\n",
    "                    if any([is_more_specific_or_equal(g, g2) and not g == g2 for g2 in general_boundary]):\n",
    "                        general_boundary.remove(g)\n",
    "        \n",
    "        # Print progress of algorithm at each iteration.\n",
    "        print('Sample: {} {}\\nG: {}\\nS: {}\\n'.format('+' if datum['target'] else '-', tuple(datum),\n",
    "                                                     general_boundary, specific_boundary))\n",
    "        \n",
    "    return general_boundary, specific_boundary"
   ]
  },
  {
   "cell_type": "code",
   "execution_count": null,
   "metadata": {
    "deletable": false,
    "editable": false,
    "nbgrader": {
     "checksum": "a0e9af779466fc3af5472db10e8eeb2b",
     "grade": false,
     "grade_id": "ex2_test",
     "locked": true,
     "schema_version": 1.0,
     "solution": false
    }
   },
   "outputs": [
    {
     "name": "stdout",
     "output_type": "stream",
     "text": [
      "Sample: + ('values', 'target')\n",
      "G: [('?', '?', '?', '?')]\n",
      "S: [('far', 'cheap', 'many', 'no')]\n",
      "\n",
      "Sample: + ('values', 'target')\n",
      "G: [('?', '?', '?', '?')]\n",
      "S: [('?', 'cheap', 'many', 'no')]\n",
      "\n",
      "Sample: - ('values', 'target')\n",
      "G: [('?', 'cheap', '?', '?'), ('?', '?', 'many', '?'), ('?', '?', '?', 'no')]\n",
      "S: [('?', 'cheap', 'many', 'no')]\n",
      "\n",
      "Sample: - ('values', 'target')\n",
      "G: [('?', '?', 'many', '?'), ('?', '?', '?', 'no')]\n",
      "S: [('?', 'cheap', 'many', 'no')]\n",
      "\n",
      "Sample: + ('values', 'target')\n",
      "G: [('?', '?', 'many', '?')]\n",
      "S: [('?', 'cheap', 'many', '?')]\n",
      "\n"
     ]
    },
    {
     "data": {
      "text/plain": [
       "([('?', '?', 'many', '?')], [('?', 'cheap', 'many', '?')])"
      ]
     },
     "execution_count": 78,
     "metadata": {},
     "output_type": "execute_result"
    }
   ],
   "source": [
    "attr_values = (('short', 'far'), ('cheap', 'expensive'), ('many', 'none'), ('yes', 'no'))\n",
    "\n",
    "# samples\n",
    "data = [ \n",
    "    {'values': ('far',   'cheap',     'many', 'no' ), 'target': True },\n",
    "    {'values': ('short', 'cheap',     'many', 'no' ), 'target': True },\n",
    "    {'values': ('far',   'expensive', 'none', 'yes'), 'target': False},\n",
    "    {'values': ('short', 'cheap',     'none', 'yes'), 'target': False},\n",
    "    {'values': ('short', 'cheap',     'many', 'yes'), 'target': True }\n",
    "]\n",
    "\n",
    "eliminate_candidates(data, attr_values)"
   ]
  },
  {
   "cell_type": "markdown",
   "metadata": {
    "collapsed": true,
    "deletable": false,
    "editable": false,
    "nbgrader": {
     "checksum": "610a1211972626c59c3a01bd5b7d1dda",
     "grade": false,
     "grade_id": "ex3",
     "locked": true,
     "schema_version": 1.0,
     "solution": false
    }
   },
   "source": [
    "## Assignment 3: Inductive Bias [4 Points]"
   ]
  },
  {
   "cell_type": "markdown",
   "metadata": {
    "deletable": false,
    "editable": false,
    "nbgrader": {
     "checksum": "eada379f29c594a2d4faf2f758a709db",
     "grade": false,
     "grade_id": "ex3a",
     "locked": true,
     "schema_version": 1.0,
     "solution": false
    }
   },
   "source": [
    "**a)** What is an inductive bias? Describe the concept in your own words! Why do we need it?"
   ]
  },
  {
   "cell_type": "markdown",
   "metadata": {
    "deletable": false,
    "nbgrader": {
     "checksum": "12d25b5890da6c3483f956caa19deef7",
     "grade": true,
     "grade_id": "ex3a_solution",
     "locked": false,
     "points": 2.0,
     "schema_version": 1.0,
     "solution": true
    },
    "solution": true
   },
   "source": [
    "In inductive learning we try to extract from examples from the instance space a hypothesis from the much larger hypotheses space. In order to predict new instances with the gained hypotheses we have to generlize from the instances. This means we have to find a representation in the hypothesis space which allows us in a learning process to  generalize. This representation will in order to allow for generalization not be able to represent any hypothesis. This limitation is what we call an inductiv bias. "
   ]
  },
  {
   "cell_type": "markdown",
   "metadata": {
    "deletable": false,
    "editable": false,
    "nbgrader": {
     "checksum": "f6d9db23f91de3af22a4070aa1b66997",
     "grade": false,
     "grade_id": "ex3b",
     "locked": true,
     "schema_version": 1.0,
     "solution": false
    }
   },
   "source": [
    "**b)** Describe and compare the inductive bias for the learning algorithms you heard about in the lecture (Candidate Elimination and Find-S)."
   ]
  },
  {
   "cell_type": "markdown",
   "metadata": {
    "deletable": false,
    "nbgrader": {
     "checksum": "09ef062428547e0531f88e4f712a203d",
     "grade": true,
     "grade_id": "ex3b_solution",
     "locked": false,
     "points": 2.0,
     "schema_version": 1.0,
     "solution": true
    },
    "solution": true
   },
   "source": [
    "The inductive bias of canidate elimaniton algorithm and F s algorithm lies first in the represenation of the hypotheses which describes a conjunction of hypotheses. But also in the process they reduce the hypothesis space. The inductive bias of the canidate elimination algorithm is stronger because the possible hypothesis space is also reduced by negative examples."
   ]
  }
 ],
 "metadata": {
  "kernelspec": {
   "display_name": "Python 3",
   "language": "python",
   "name": "python3"
  },
  "language_info": {
   "codemirror_mode": {
    "name": "ipython",
    "version": 3
   },
   "file_extension": ".py",
   "mimetype": "text/x-python",
   "name": "python",
   "nbconvert_exporter": "python",
   "pygments_lexer": "ipython3",
   "version": "3.6.1"
  },
  "widgets": {
   "state": {},
   "version": "1.1.2"
  }
 },
 "nbformat": 4,
 "nbformat_minor": 1
}
