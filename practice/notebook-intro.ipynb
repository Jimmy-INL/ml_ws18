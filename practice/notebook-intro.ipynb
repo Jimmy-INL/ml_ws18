{
 "cells": [
  {
   "cell_type": "markdown",
   "metadata": {
    "slideshow": {
     "slide_type": "slide"
    }
   },
   "source": [
    "# Short introduction to Notebooks and Python\n",
    "\n",
    "This tutorial aims to demonstrate Jupyter notebook and show you a little Python to solve the exercises.\n"
   ]
  },
  {
   "cell_type": "markdown",
   "metadata": {
    "collapsed": true,
    "slideshow": {
     "slide_type": "slide"
    }
   },
   "source": [
    "## Notebook User Interface\n",
    "\n",
    "This is a IPython Notebook cell. There are two (important for you) kinds of cells: *Mardown* and *Code*. You can change the cell type with the drop-down menu in the toolbar above.\n",
    "There are two different modes: *edit mode* and *command mode*. To enter command mode hit <kbd>Esc</kbd> , for edit mode hit <kbd>Enter</kbd>. If you are in command mode hit <kbd>B</kbd> to insert a new cell. To eveluate a cell hit <kbd>Ctrl</kbd>+<kbd>Enter</kbd>. An overview of all shortcuts can be found in Help -> Keybort Shortcuts.\n",
    "\n",
    "For more information go to: Help -> User Interface Tour"
   ]
  },
  {
   "cell_type": "markdown",
   "metadata": {
    "slideshow": {
     "slide_type": "subslide"
    }
   },
   "source": [
    "## This is a Markdown cell\n",
    "\n",
    "You can format your text in an intuitive way. Hit Enter or double click to edit the cell.\n",
    "\n",
    "- example\n",
    "- bullet\n",
    "- points.\n",
    "\n",
    "You can write *italic text* or **bold text**\n",
    "\n",
    "or even latex formulars: $$ (x+y)^n = \\sum_{k=0}^{n}\\binom{n}{k} x^{n-k}y^{k} $$\n",
    "\n"
   ]
  },
  {
   "cell_type": "markdown",
   "metadata": {
    "slideshow": {
     "slide_type": "subslide"
    }
   },
   "source": [
    "| Date        | what          |\n",
    "|-------------|---------------|\n",
    "| April 10    | Practice      |\n",
    "| April 11    | Lecture       |\n",
    "| April 12    | Lecture       |\n"
   ]
  },
  {
   "cell_type": "code",
   "execution_count": null,
   "metadata": {
    "slideshow": {
     "slide_type": "subslide"
    }
   },
   "outputs": [],
   "source": [
    "# This is a code cell\n",
    "1+1"
   ]
  },
  {
   "cell_type": "markdown",
   "metadata": {
    "slideshow": {
     "slide_type": "slide"
    }
   },
   "source": [
    "# Python"
   ]
  },
  {
   "cell_type": "markdown",
   "metadata": {},
   "source": [
    "Within the practice session, we will provide a quick introduction to python and some relevant libraries:\n",
    "* today: Python\n",
    "* next week: Numpy\n",
    "* in two weeks: MatPlotLib"
   ]
  },
  {
   "cell_type": "markdown",
   "metadata": {
    "slideshow": {
     "slide_type": "subslide"
    }
   },
   "source": [
    "## Online Tutorials:\n",
    "\n",
    "\n",
    "interactive python tutorial for beginners: https://www.codecademy.com/learn/python\n",
    "\n",
    "another one for beginners: http://www.learnpython.org/\n",
    "\n",
    "video lecture: https://www.coursera.org/learn/python\n",
    "\n",
    "_____\n",
    "\n",
    "**If you chose one of the tutorials ignore the rest of this...**\n",
    "\n",
    "____"
   ]
  },
  {
   "cell_type": "markdown",
   "metadata": {
    "collapsed": true
   },
   "source": [
    "## Comments\n",
    "Comments in Python start with #."
   ]
  },
  {
   "cell_type": "code",
   "execution_count": null,
   "metadata": {},
   "outputs": [],
   "source": [
    "# This is a code cell containing just a comment"
   ]
  },
  {
   "cell_type": "markdown",
   "metadata": {},
   "source": [
    "## Types\n",
    "\n",
    "Python has some basic types:"
   ]
  },
  {
   "cell_type": "code",
   "execution_count": null,
   "metadata": {},
   "outputs": [],
   "source": [
    "1        # this is an integer\n",
    "1.0      # this is a float\n",
    "'this is a string' # or\n",
    "\"this is a string\"\n",
    "True     # this is a boolean\n",
    "None     # None is used to represent the absence of a value"
   ]
  },
  {
   "cell_type": "code",
   "execution_count": null,
   "metadata": {},
   "outputs": [],
   "source": [
    "type(1)"
   ]
  },
  {
   "cell_type": "code",
   "execution_count": null,
   "metadata": {},
   "outputs": [],
   "source": [
    "len('hello')"
   ]
  },
  {
   "cell_type": "markdown",
   "metadata": {},
   "source": [
    "## Variables\n",
    "\n",
    "Variables are named pieces of memory. They can keep values. Variable names should be speaking, i.e. whole words, separated by underscore: "
   ]
  },
  {
   "cell_type": "code",
   "execution_count": null,
   "metadata": {},
   "outputs": [],
   "source": [
    "# Variables\n",
    "a = 1\n",
    "b = 1.1\n",
    "c = 'this is a string'\n",
    "d = True\n",
    "n = None\n",
    "\n",
    "long_name = 42\n",
    "\n",
    "print(a, b, c, d, n, long_name)"
   ]
  },
  {
   "cell_type": "code",
   "execution_count": null,
   "metadata": {
    "slideshow": {
     "slide_type": "subslide"
    }
   },
   "outputs": [],
   "source": [
    "a=3"
   ]
  },
  {
   "cell_type": "code",
   "execution_count": null,
   "metadata": {
    "slideshow": {
     "slide_type": "subslide"
    }
   },
   "outputs": [],
   "source": [
    "type(a)"
   ]
  },
  {
   "cell_type": "code",
   "execution_count": null,
   "metadata": {
    "slideshow": {
     "slide_type": "subslide"
    }
   },
   "outputs": [],
   "source": [
    "a=5.0"
   ]
  },
  {
   "cell_type": "markdown",
   "metadata": {
    "slideshow": {
     "slide_type": "slide"
    }
   },
   "source": [
    "## Simple I/O"
   ]
  },
  {
   "cell_type": "code",
   "execution_count": null,
   "metadata": {
    "slideshow": {
     "slide_type": "slide"
    }
   },
   "outputs": [],
   "source": [
    "# Code cells can contain interactive commands:\n",
    "a = input('First Number: ')\n",
    "b = input('Second Number: ')\n",
    "c = float(a) + float(b)\n",
    "print('Result:', c)"
   ]
  },
  {
   "cell_type": "markdown",
   "metadata": {
    "slideshow": {
     "slide_type": "slide"
    }
   },
   "source": [
    "## Simple Artithmetic"
   ]
  },
  {
   "cell_type": "code",
   "execution_count": null,
   "metadata": {
    "slideshow": {
     "slide_type": "subslide"
    }
   },
   "outputs": [],
   "source": [
    "print(1 + 1)\n",
    "print(2 * 3)\n",
    "print(7 // 2)\n",
    "print(2 / 6)\n",
    "print(2 ** 6)"
   ]
  },
  {
   "cell_type": "markdown",
   "metadata": {
    "slideshow": {
     "slide_type": "subslide"
    }
   },
   "source": [
    "## Boolean Arithmetic"
   ]
  },
  {
   "cell_type": "code",
   "execution_count": null,
   "metadata": {},
   "outputs": [],
   "source": [
    "a = True\n",
    "b = False\n",
    "print( a and b )\n",
    "print( a or b )\n",
    "print( not b )"
   ]
  },
  {
   "cell_type": "code",
   "execution_count": null,
   "metadata": {
    "slideshow": {
     "slide_type": "subslide"
    }
   },
   "outputs": [],
   "source": [
    "print( all([True, True, False]))\n",
    "print( any([True, True, False]))"
   ]
  },
  {
   "cell_type": "markdown",
   "metadata": {
    "slideshow": {
     "slide_type": "slide"
    }
   },
   "source": [
    "## Lists\n",
    "\n",
    "Lists are one of the most importent data structures in Python:\n",
    "* You can store elements of different types in the same list.\n",
    "* The first index is zero."
   ]
  },
  {
   "cell_type": "code",
   "execution_count": null,
   "metadata": {
    "slideshow": {
     "slide_type": "subslide"
    }
   },
   "outputs": [],
   "source": [
    "L = ['a', 'b', 'c', 'd'] # create a list of four strings\n",
    "\n",
    "# Indexing\n",
    "L[0]    # access the first element of the list\n",
    "L[1]    # access the second element of the list\n",
    "L[-2]   # access second last element of the list\n",
    "L[1:]   # cut of the first element\n",
    "L[:2]   # cuts of everything after the second element\n",
    "L[1:-1] # cut of the first and the last element\n",
    "\n",
    "print(L)"
   ]
  },
  {
   "cell_type": "code",
   "execution_count": null,
   "metadata": {},
   "outputs": [],
   "source": [
    "# assign a new value to index 3\n",
    "\n",
    "L[3] = 'other value' \n",
    "\n",
    "print(L)"
   ]
  },
  {
   "cell_type": "code",
   "execution_count": null,
   "metadata": {},
   "outputs": [],
   "source": [
    "# assign new values from index one to index 3\n",
    "\n",
    "L[1:3] = [12,13,14]\n",
    "\n",
    "print(L)"
   ]
  },
  {
   "cell_type": "code",
   "execution_count": null,
   "metadata": {},
   "outputs": [],
   "source": [
    "# delete index 3\n",
    "\n",
    "del L[3]\n",
    "\n",
    "print(L)"
   ]
  },
  {
   "cell_type": "code",
   "execution_count": null,
   "metadata": {},
   "outputs": [],
   "source": [
    "L.append('new element') # add an element to the end of the list\n",
    "L.extend([1,2,3])       # add the elements of one list to the elements of another list\n",
    "L.insert(2,'new value') # insert a value between index 2 and three\n",
    "\n",
    "print(L)"
   ]
  },
  {
   "cell_type": "code",
   "execution_count": null,
   "metadata": {},
   "outputs": [],
   "source": [
    "print(L.pop())\n",
    "print(L)"
   ]
  },
  {
   "cell_type": "code",
   "execution_count": null,
   "metadata": {},
   "outputs": [],
   "source": [
    "print(len(L))"
   ]
  },
  {
   "cell_type": "code",
   "execution_count": null,
   "metadata": {},
   "outputs": [],
   "source": [
    "R = list(range(0,10))\n",
    "print(R)"
   ]
  },
  {
   "cell_type": "markdown",
   "metadata": {
    "slideshow": {
     "slide_type": "subslide"
    }
   },
   "source": [
    "### List comprehension\n",
    "\n",
    "Define lists similar to sets in math:\n",
    "$$L = \\{x^2 \\mid x \\in R\\}$$"
   ]
  },
  {
   "cell_type": "code",
   "execution_count": null,
   "metadata": {
    "scrolled": true
   },
   "outputs": [],
   "source": [
    "L = [x**2 for x in R]\n",
    "\n",
    "print(L)"
   ]
  },
  {
   "cell_type": "markdown",
   "metadata": {
    "slideshow": {
     "slide_type": "subslide"
    }
   },
   "source": [
    "### List methods\n",
    "\n",
    "There exists several methods that operate on lists:"
   ]
  },
  {
   "cell_type": "code",
   "execution_count": null,
   "metadata": {},
   "outputs": [],
   "source": [
    "[1,2,3,4,5].count(4)"
   ]
  },
  {
   "cell_type": "markdown",
   "metadata": {
    "slideshow": {
     "slide_type": "slide"
    }
   },
   "source": [
    "## Tupels\n",
    "\n",
    "Tupels are fixed length, immutable entities"
   ]
  },
  {
   "cell_type": "code",
   "execution_count": null,
   "metadata": {},
   "outputs": [],
   "source": [
    "T = (1,2,3,'hello')\n",
    "print(T)\n",
    "S = T[0:2]"
   ]
  },
  {
   "cell_type": "code",
   "execution_count": null,
   "metadata": {
    "slideshow": {
     "slide_type": "subslide"
    }
   },
   "outputs": [],
   "source": [
    "L = list(T)\n",
    "T = tuple(L)\n",
    "\n",
    "print(L)\n",
    "print(T)"
   ]
  },
  {
   "cell_type": "code",
   "execution_count": null,
   "metadata": {
    "slideshow": {
     "slide_type": "subslide"
    }
   },
   "outputs": [],
   "source": [
    "L[1] = 'x' # ok, L will now contain 'x'\n",
    "T[1] = 'x' # error: tuples are immutable"
   ]
  },
  {
   "cell_type": "markdown",
   "metadata": {
    "slideshow": {
     "slide_type": "slide"
    }
   },
   "source": [
    "## Dictionaries\n",
    "\n",
    "Dictionaries store key value pairs."
   ]
  },
  {
   "cell_type": "code",
   "execution_count": null,
   "metadata": {},
   "outputs": [],
   "source": [
    "D = {'a' : 33} # create an empty dictionary\n",
    "\n",
    "D['hello'] = 'world' # assign value 'world' to key 'hello'\n",
    "D[42] = 999 # key and values can be numbers\n",
    "D['foo'] = [1,2,3] # values can also be lists or any other objects\n",
    "\n",
    "print(D)"
   ]
  },
  {
   "cell_type": "code",
   "execution_count": null,
   "metadata": {
    "slideshow": {
     "slide_type": "subslide"
    }
   },
   "outputs": [],
   "source": [
    "# access is pretty easy\n",
    "\n",
    "v = D['hello']\n",
    "\n",
    "print(v)"
   ]
  },
  {
   "cell_type": "code",
   "execution_count": null,
   "metadata": {
    "slideshow": {
     "slide_type": "subslide"
    }
   },
   "outputs": [],
   "source": [
    "# deletion of a key-value pair\n",
    "\n",
    "del D['hello']\n",
    "\n",
    "print(D)"
   ]
  },
  {
   "cell_type": "code",
   "execution_count": null,
   "metadata": {
    "slideshow": {
     "slide_type": "subslide"
    }
   },
   "outputs": [],
   "source": [
    "D['foo'] = 23\n",
    "\n",
    "print(D)"
   ]
  },
  {
   "cell_type": "markdown",
   "metadata": {
    "slideshow": {
     "slide_type": "slide"
    }
   },
   "source": [
    "Control Structures\n",
    "---"
   ]
  },
  {
   "cell_type": "code",
   "execution_count": null,
   "metadata": {},
   "outputs": [],
   "source": [
    "a = 1\n",
    "b = 2\n",
    "c = 3\n",
    "\n",
    "if a == b :\n",
    "    print('a is equal to b')\n",
    "elif a < b:\n",
    "    print('a is smaller than b')\n",
    "else :\n",
    "    print('a is greater than b')\n",
    "\n",
    "if a < b < c :\n",
    "    print('b is between a and c')\n",
    "\n",
    "if a in [1,2,3] :\n",
    "    print('a is in inside the list')"
   ]
  },
  {
   "cell_type": "markdown",
   "metadata": {
    "slideshow": {
     "slide_type": "slide"
    }
   },
   "source": [
    "Loops\n",
    "------\n",
    "\n"
   ]
  },
  {
   "cell_type": "markdown",
   "metadata": {},
   "source": [
    "### `for` loops\n",
    "\n",
    "The `for` loop can be used whenever something can be iterated:"
   ]
  },
  {
   "cell_type": "code",
   "execution_count": null,
   "metadata": {},
   "outputs": [],
   "source": [
    "# A for loop takes a list and iterates over its elements\n",
    "L = ['a', 'b', 'ccc']\n",
    "\n",
    "for element in L:\n",
    "    print(element)"
   ]
  },
  {
   "cell_type": "code",
   "execution_count": null,
   "metadata": {
    "slideshow": {
     "slide_type": "subslide"
    }
   },
   "outputs": [],
   "source": [
    "# for loops are often used together with range\n",
    "\n",
    "for i in range(10):\n",
    "    print(i)"
   ]
  },
  {
   "cell_type": "code",
   "execution_count": null,
   "metadata": {
    "slideshow": {
     "slide_type": "subslide"
    }
   },
   "outputs": [],
   "source": [
    "# for can also loop through dictionaries\n",
    "print(D)\n",
    "for key in D:\n",
    "    print(key,D[key])"
   ]
  },
  {
   "cell_type": "code",
   "execution_count": null,
   "metadata": {
    "slideshow": {
     "slide_type": "subslide"
    }
   },
   "outputs": [],
   "source": [
    "for key, value in D.items():\n",
    "    print(key,value)"
   ]
  },
  {
   "cell_type": "markdown",
   "metadata": {
    "slideshow": {
     "slide_type": "subslide"
    }
   },
   "source": [
    "### `while` loops"
   ]
  },
  {
   "cell_type": "code",
   "execution_count": null,
   "metadata": {},
   "outputs": [],
   "source": [
    "# while loop\n",
    "\n",
    "a = 1\n",
    "while a < 4 :\n",
    "    print(a)\n",
    "    a += 1"
   ]
  },
  {
   "cell_type": "markdown",
   "metadata": {
    "slideshow": {
     "slide_type": "slide"
    }
   },
   "source": [
    "## Functions\n",
    "\n",
    "- A function is a block of code that is used to perform a single action.\n",
    "- Functions provide better modularity and support reuse."
   ]
  },
  {
   "cell_type": "code",
   "execution_count": null,
   "metadata": {
    "slideshow": {
     "slide_type": "subslide"
    }
   },
   "outputs": [],
   "source": [
    "def hello(arg):\n",
    "    \"Simple Hello function\"\n",
    "    print(\"Hello {}\".format(arg))\n",
    "\n",
    "hello('Python')\n",
    "hello(3)"
   ]
  },
  {
   "cell_type": "code",
   "execution_count": null,
   "metadata": {
    "slideshow": {
     "slide_type": "subslide"
    }
   },
   "outputs": [],
   "source": [
    "def plus(a,b):\n",
    "    \"\"\"\n",
    "    Add the two arguments a and b.\n",
    "    \"\"\"\n",
    "    r = a + b\n",
    "    return r"
   ]
  },
  {
   "cell_type": "code",
   "execution_count": null,
   "metadata": {
    "slideshow": {
     "slide_type": "subslide"
    }
   },
   "outputs": [],
   "source": [
    "result = plus(2,3)\n",
    "\n",
    "print(result)"
   ]
  },
  {
   "cell_type": "code",
   "execution_count": null,
   "metadata": {
    "slideshow": {
     "slide_type": "subslide"
    }
   },
   "outputs": [],
   "source": [
    "print(plus.__doc__)"
   ]
  }
 ],
 "metadata": {
  "kernelspec": {
   "display_name": "Python 3",
   "language": "python",
   "name": "python3"
  },
  "language_info": {
   "codemirror_mode": {
    "name": "ipython",
    "version": 3
   },
   "file_extension": ".py",
   "mimetype": "text/x-python",
   "name": "python",
   "nbconvert_exporter": "python",
   "pygments_lexer": "ipython3",
   "version": "3.6.5"
  },
  "widgets": {
   "state": {},
   "version": "1.0.0"
  }
 },
 "nbformat": 4,
 "nbformat_minor": 1
}
